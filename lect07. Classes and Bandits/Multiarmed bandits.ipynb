{
 "cells": [
  {
   "cell_type": "markdown",
   "metadata": {},
   "source": [
    "# Многорукие бандиты\n",
    "\n",
    "*Подготовил Ян Пиле*"
   ]
  },
  {
   "cell_type": "markdown",
   "metadata": {},
   "source": [
    "## Традиционное АБ-тестирование\n",
    "\n",
    "На веб-сайтах сегодня постоянно происходит проверка разного рода гипотез. Какой должна быть кнопка \"Купить\" : красной или синей? Какой заголовок привлекает больше всего кликов к этой новостной статье? На какую версию рекламы больше кликают? \n",
    "\n",
    "Чтобы определить оптимальный ответ на эти вопросы, используют A/B-тесты - статистически обоснованный метод сравнения версий A и B. \n",
    "\n",
    "По сути, в ходе тестирования аналитик пытается определить, совпадают ли значения некой величины в группах А и В, или различие в ней на самом деле случайность?"
   ]
  },
  {
   "cell_type": "markdown",
   "metadata": {},
   "source": [
    "**A/B-тестирование** основано на классическом понимании статистической значимости. Когда мы придумываем новую функциональность продукта, мы хотим проверить, полезна ли она, прежде чем запускать ее для всей пользовательской базы. \n",
    "\n",
    "В тесте обычно участвуют две группы: группа, получающая новую функциональность, (Treatment) и контрольная группа (Control). Затем мы измеряем ключевой показатель для обеих групп, например: \n",
    "\n",
    "* среднее время пребывания на сайте (социальная сеть), \n",
    "* среднее время оформления заказа (электронная коммерция) \n",
    "* CTR или кол-во кликов (онлайн-реклама). \n",
    "\n",
    "Разница между группами проверяется на статистическую значимость.\n",
    "Классический статистический тест при правильном проведении (например z-тест, t-тест) гарантирует, что количество ложных срабатываний(FPR или ошибок первого рода) не превышает $\\alpha$ (часто берут 5%). Это означает, что при отсутствии разницы между экспериментальной и контрольной группой тест будет показывать значимое отличие не более чем в 5% случаев.\n",
    "\n",
    "Сбалансированный A/B-тест распределяет равное количество трафика на каждую группу в течение всего времени эксперимента. Мы при этом не можем регулировать распределение трафика во время теста в зависимости от того, что наблюдается. По сути, недостаток A / B-тестирования очевиден: если экспериментальная группа явно превосходит результаты контрольной, нам все равно придется потратить много трафика на контрольную группу, чтобы получить статистическую значимость."
   ]
  },
  {
   "cell_type": "markdown",
   "metadata": {},
   "source": [
    "# А можно ли по-другому?\n",
    "\n",
    "## Exploration vs Exploitation "
   ]
  },
  {
   "cell_type": "markdown",
   "metadata": {},
   "source": [
    "Компромисс между исследованием неизученных областей и применением имеющихся знаний (Exploration vs Exploitation tradeoff) часто возникает и в реальной жизни. Возьмем в качестве примера ваш любимый ресторан. Если вы будете ходить туда каждый день, вы всегда будете уверены в том, что получите, но каждый раз будете упускать возможность найти ресторан лучше, вкуснее и дешевле. Если вы напротив все время пробуете новые места, скорее всего, вам придется время от времени есть дрянную еду. Такая задачка была в знаменитых [Фейнмановских лекциях](https://www.feynmanlectures.caltech.edu/info/exercises/Feynmans_restaurant_problem.html) по физике. К слову, рекомендую посмотреть ее решение или попытаться решить ее самостоятельно.\n",
    "\n",
    "АБ-тест чем-то на это похож: у нас есть несколько вариантов рекламы, но мы не знаем, на каком из них мы заработаем наибольшую сумму. Мы можем распределить равную долю трафика на эти варианты и подождать значимости результатов, а можем придумать стратегию, по которой будем перераспределять трафик в зависимости от того, какие результаты будем наблюдать. Давайте поставим нашу задачу чуть более формально:"
   ]
  },
  {
   "cell_type": "markdown",
   "metadata": {},
   "source": [
    "# Задача о многоруком бандите"
   ]
  },
  {
   "cell_type": "markdown",
   "metadata": {},
   "source": [
    "Представьте, что вы находитесь в казино перед несколькими игровыми автоматами, и каждый из них настроен с неизвестной вероятностью того, что вы можете получить вознаграждение за одну игру. Возникает вопрос: какова наилучшая стратегия, чтобы получить максимальный выигрыш при условии, что вы не знаете вероятности?\n",
    "\n",
    "<img src=\"data:image/png;base64,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\">\n",
    "\n",
    "Мы для определенности будем считать, что каждый игровой автомат - показ определенного типа рекламного баннера, а стоимость кликов в баннер одинаковая. При этих условиях выигрыш от выбора каждого баннера будет случайной величиной Бернуллиевского типа вида $X_i \\sim reward * Ber(p_i)$, где $reward$ - стоимость клика в баннер, а $p_i$ - неизвестная нам вероятность клика в i-тый баннер. На оптимизационную задачу наш постоянный коэффициент $reward$ не повлияет, поэтому будем считать, что выигрыш это 0 или 1."
   ]
  },
  {
   "cell_type": "markdown",
   "metadata": {},
   "source": [
    "# Математическая формулировка"
   ]
  },
  {
   "cell_type": "markdown",
   "metadata": {},
   "source": [
    "Бернуллиевский многорукий бандит может быть описан как пара $(A,R)$, где\n",
    "\n",
    "* У нас есть $K$ вариантов (баннеров/ручек) с неизвестными вероятностями \"выигрыша\" $(\\theta_1,...,\\theta_K)$\n",
    "* В каждый момент времени $t$ мы \"дергаем за одну из ручек\" (например для каждого приходящего пользователя принимаем решение, какой баннер ему показать) и получаем \"выигрыш\" $r$ (он может быть равен 0).\n",
    "* $A$ - множество действий, которые мы предприняли (каждое действие - взаимодействие с одной из ручек бандита), В результате каждого действия $a$ мы получаем \"выигрыш\" $Q(a)$, причем $Q(a) = E(r|a) = \\theta$. Если в результате действия $a_t$ в момент времени $t$ мы дернули за ручку $i$, то $Q(a_t) = \\theta_i$\n",
    "* $R$ - функция выигрыша. В нашем случае в каждый момент времени $t$ $r_t = R(a_t)$ равен 1, если человек кликнул в баннер, и это произойдет с вероятностью $Q(a_t) = \\theta_i$, или равен 0, если человек в баннер не кликнул, и это произойдет с вероятностью $1 - \\theta_i$\n",
    "\n",
    "\n",
    "### Цель\n",
    "\n",
    "Наша задача состоит в том, чтобы максимизировать наш выигрыш за $T$ шагов, то есть:\n",
    "\n",
    "$$maximize(\\sum^T_{i=1}r_i)$$\n",
    "\n",
    "Чтобы это сделать, нам нужно попытаться идентифицировать ручку с максимальным выигрышем $\\theta^*$:\n",
    "\n",
    "$$\\theta^* = Q(a^*) = max_{a \\in A}(Q(a)) = max_{1\\le i \\le K}(\\theta_i)$$\n",
    "\n",
    "Функция потерь (нашей ошибки), которая в этом случае возникает из-за неверно выбранной ручки, выглядит так:\n",
    "\n",
    "$$ L_T = E(\\sum^T_{i=1}(\\theta^* - Q(a_t)))$$"
   ]
  },
  {
   "cell_type": "markdown",
   "metadata": {},
   "source": [
    "# Стратегии"
   ]
  },
  {
   "cell_type": "markdown",
   "metadata": {},
   "source": [
    "1) Никакого исследования новых ручек, всегда берется лучший результат первой итерации. Это называется жадной стратегией и она работает очень плохо (причина совершенно ясна)\n",
    "\n",
    "2) Исследование новых ручек случайное: Преимущественно берется результат, показавший себя лучге всего, но в каком-то проценте случаев исследуется случайная ручка\n",
    "\n",
    "3) Более умная стратегия\n",
    "\n",
    "Вариант один мы даже моделировать не будем."
   ]
  },
  {
   "cell_type": "markdown",
   "metadata": {},
   "source": [
    "# $\\epsilon$-жадная стратегия"
   ]
  },
  {
   "cell_type": "markdown",
   "metadata": {},
   "source": [
    "$\\epsilon$-жадный алгоритм большую часть времени выбирать ручку, которая к настоящему моменту показала себя лучшей, но иногда выполняет случайное исследование новых ручек. Ценность каждого действия оценивается путем усреднения вознаграждений, связанных с целевым действием a, которые мы наблюдали до текущего временного шага t:\n",
    "\n",
    "$$\\hat Q_t(a) = \\dfrac{1}{N_t(a)}\\sum^t_{\\tau = 1}r_t[a_t==a]$$\n",
    "\n",
    "Здесь [] - индикаторная функция, равная 1, если внутри истинное утверждение и 0, если ложное. $N_t(a)$ - количество раз, в которых было выбрано действие $a$.\n",
    "\n",
    "Согласно $\\epsilon$-жадному алгоритму с малой вероятностью $\\epsilon$ мы предпринимаем случайное действие(выбираем случайную ручку), а с вероятностью $1 - \\epsilon$ выбираем наилучшее на данный момент действие (оценивается по доле выигрышей)."
   ]
  },
  {
   "cell_type": "markdown",
   "metadata": {},
   "source": [
    "# Upper Confidence Bounds. алгоритм UCB1"
   ]
  },
  {
   "cell_type": "markdown",
   "metadata": {},
   "source": [
    "Случайное исследование в предыдущей стратегии дает нам возможность как-то опробовать варианты, о которых мы ничего не знали. Тем не менее, из-за случайности, вероятно, что мы будем исследуем действие, которое себя плохо зарекомендовалов прошлом (скажем, у какой-то ручки доля кликов в 10 раз меньше остальных вариантов, а мы все равно продолжаем ее исследовать). Чтобы избежать такого малоэффективного исследования новых ручек, можно попробовать уменьшать параметр $\\epsilon$ со временем, или можно попытаться оцифровать то, насколько достоверна наша текущая оценка вероятности выигрыша в конкретной ручке (если мы уже 125 раз дернули ручку А и она все время показывает себя хуже остальных, надо дергать ее пореже). Давайте будем дергать те ручки, относительно которых высока неопределенность нашей оценки, а те, относительно которых неопределенность мала(мы уверены в текущем измеренном результат), дергать будем реже. Другими словами, мы предпочитаем исследование тех ручек, у которых высок потенцил для получения оптимального выигрыша. Звучит мудрено :) но посмотрим это явно с помощью алгоритма UCB.\n",
    "\n",
    "Наш алгоритм **Upper Confidence Bounds (UCB)** измеряет такой потенциал с помощью оценки сверху доверительной границы значения вознаграждения, которое мы можем с этой ручки получить. Обозначим эту оценку за $\\hat U_t(a)$. Раз у нас оценка сверху то истинное значение с большой вероятностью должно находиться ниже нашего измеренного значения + наша оценка доверительной границы:\n",
    "\n",
    "$$Q(a)\\le \\hat Q_t(a) + \\hat U_t(a)$$\n",
    "\n",
    "При этом оценка $\\hat U_t(a)$ зависит от $N_t(a)$ (большее кол-во попыток должно уменьшать $\\hat U_t(a)$, то есть наша оценка становится точнее.\n",
    "\n",
    "В алгоритме UCB мы всегда выбираем такое действие, которое максимизирует нашу оценку:\n",
    "\n",
    "$$a^{UCB}_t = argmax_{a \\in A} \\hat Q_t(a) + \\hat U_t(a)$$\n",
    "\n",
    "Остается понять, как нам, собственно, оценить $\\hat U_t(a)$\n",
    "\n"
   ]
  },
  {
   "cell_type": "markdown",
   "metadata": {},
   "source": [
    "# Неравенство Хёффдинга\n",
    "\n",
    "Чтобы оценить нашу границу, не привязываясь к явному виду распределения, воспользуемся [неравенством Хёффдинга](http://cs229.stanford.edu/extra-notes/hoeffding.pdf). Это общее утверждение, которое справедливо для всех ограниченных вероятностных распределений(но мы его сформулируем для ограниченных на интервале $[0,1]$:\n",
    "\n",
    "Пусть $X_1 ... X_t$ - независимые, одинаково распределенные случайные величины, каждая из которых находится в интервале $[0,1]$, тогда для любого $u > 0$ справедливо неравенство:\n",
    "\n",
    "$$P(E[X] > \\bar{X_t}+u) \\le e^{-2tu^2} \\text{ , где } \\bar{X_t} = \\dfrac{1}{t}\\sum^t_{\\tau = 1}X_{\\tau}$$\n",
    "\n",
    "Теперь переведем это утверждение на язык наших ручек и выигрышей. У нас:\n",
    "\n",
    "* $r_t(a)$ - случайные величины из формулировки теоремы\n",
    "* $Q(a)$ - истинное значение среднего (вероятность выигрыша)\n",
    "* $\\hat Q_t(a)$ - выборочная оценка среднего на шаге $t$(вероятность выигрыша, оцененная по выборке)\n",
    "* $u = \\hat U_t(a)$ - наша оценка $UCB$\n",
    "\n",
    "Значит для нашего бандитского эксперимента оценка примет вид:\n",
    "\n",
    "$$P(Q(a) > \\hat Q_t(a) + \\hat U_t(a)) \\le e^{-2t(\\hat U_t(a))^2}$$\n",
    "\n",
    "Мы хотим выбрать границу так, чтобы с большой вероятностью истинное среднее оказывалось меньше, чем сумма выборочной оценки и оценки $UCB$. Таким образом вероятность $e^{-2t(\\hat U_t(a))^2}$ должна быть маленькой величиной. Допустим, это какая-то маленькая вероятность $p$, тогда:\n",
    "\n",
    "$$e^{-2t(\\hat U_t(a))^2} = p \\text{ или, иначе говоря:}$$\n",
    "\n",
    "$$U_t(a) = \\sqrt{\\dfrac{-logp}{2N_t(a)}}$$\n",
    "\n",
    "\n",
    "\n",
    "\n",
    "\n"
   ]
  },
  {
   "cell_type": "markdown",
   "metadata": {},
   "source": [
    "# UCB1"
   ]
  },
  {
   "cell_type": "markdown",
   "metadata": {},
   "source": [
    "Давайте будем со временем уменьшать порог по вероятности (это мы такую эвристику придумали). Договоримся, что $$p = t^{-4}$$\n",
    "\n",
    "Тогда мы получим:\n",
    "$$U_t(a) = \\sqrt{\\dfrac{2logt}{N_t(a)}}$$\n",
    "\n",
    "Значит наша задача принимает вид:\n",
    "\n",
    "$$a^{UCB1}_t = argmax_{a \\in A} \\hat Q_t(a) + \\sqrt{\\dfrac{2logt}{N_t(a)}}$$\n"
   ]
  },
  {
   "cell_type": "markdown",
   "metadata": {},
   "source": [
    "# Байесовская UCB\n",
    "\n",
    "В алгоритме UCB1 мы не делаем никаких предварительных оценок о распределении вознаграждения, и поэтому приходится полагаться на общую оценку через неравенство Хёффдинга. Если мы сможем заранее узнать распределение, границы можно будет оценить лучше.\n",
    "\n",
    "Например, если мы ожидаем, что среднее вознаграждение каждого игрового автомата будет нормальным, мы можем установить верхнюю границу как 95% доверительный интервал, установив $\\hat U_t(a)$ равным  удвоенному или утроенному стандартному отклонению (то самое правило двух/трех сигм).\n",
    "\n",
    "Если наши выигрыши распределены по Бернулли(а это так и есть), теорема Байеса нам подсказывает, что априорное и апостериорное распределения для оцениваемых параметров можно выбрать в виде Бета-распределения. Тогда при появлении новых данных мы будем обновлять параметры апостериорного распределения и точнее угадывать нужную нам ручку. Про обновление параметров бета-распределения хорошо почитать в [этой](https://arxiv.org/pdf/1709.03162.pdf) статье."
   ]
  },
  {
   "cell_type": "markdown",
   "metadata": {},
   "source": [
    "# Сэмплирование Томпсона\n",
    "\n",
    "На каждом временном шаге в этом методе мы хотим выбирать действие a в соответствии с вероятностью того, что оно является оптимальным. Оценивается это так:\n",
    "\n",
    "$$\\pi(a|h_t) = P[Q(a) > Q(a'), \\forall a' \\not = a|h_t] = E_{R|h_t}[1(a= argmax_{a \\in A}Q(a))]$$\n",
    "\n",
    "Здесь $\\pi(a|h_t)$ - вероятность принятия решения $a$ при условии истории $h_t$ - набора предыдущих действий.\n",
    "\n",
    "Для Бернуллиевского бандита логичным(как и в предыдущем случае) кажется моделировать $Q(a)$ с помощью бета-распределения, так как $Q(a)$ есть неизвестное $\\theta$ для распределения Бернулли. Значение $Beta(\\alpha,\\beta)$ находится в интервале $[0,1]$, $\\alpha$ и $\\beta$ соответствуют количеству \"успехов\"(когда мы получили выигрыш) и \"неудач\"(когда мы не получили выигрыш) соответственно.\n",
    "\n",
    "Инициализируем параметры $\\alpha$ и $\\beta$ нашего бета-распределения на основе некоторых априорных знаний или убеждений для каждой ручки, например:\n",
    "\n",
    "* При $\\alpha = 1$ и $\\beta = 1$ мы ожидаем вероятность выигрыша 50%, но при этом не очень уверены.\n",
    "* При $\\alpha = 1000$ и $\\beta = 9000$ мы крайне уверены, что вероятность выигрыша составляет 10%\n",
    "\n",
    "В каждый момент времени $t$ мы сэмплируем ожидаемый выигрыш $\\hat Q_t(a)$ из априорного бета-распределения $Beta(\\alpha_i,\\beta_i)$ для каждого действия. Лучшее действие выбирается среди вариантов $a^{TS}_t = argmax_{a \\in A}\\hat Q(a)$. Затем мы получаем истинное значение выигрыша, и можем соответствующим образом обновить бета-распределение, которое по сути делает байесовский вывод для вычисления апостериорного значения с известным априорным значением и правдоподобием получения выборочных данных.\n",
    "\n",
    "$\\alpha_i \\leftarrow \\alpha_i + r_t[a^{TS}_t==a]$\n",
    "\n",
    "$\\beta_i \\leftarrow \\beta_i + (1-r_t)[a^{TS}_t==a]$\n",
    "\n",
    "Получаемые нами оценки вознаграждения $\\hat Q(a)$ сэмплируются из апостериорных распределений, каждая из получаемых вероятностей эквивалентна вероятности того, что соответствующее действие является оптимальным при условии наблюдаемой истории :)\n",
    "\n",
    "Тем не менее, для многих практических  оценка апостериорных распределений может оказаться сложной с вычислительной точки зрения оценить апостериорные распределения по наблюдаемому истинному выигрышу с использованием байесовского вывода. Сэмплирование Томпсона все еще будет работать, если мы сможем аппроксимировать апостериорные распределения, используя какие-то приближенные методы, как, например, сэмплирование Гиббса, аппроксимация Лапласа или бутстрэп. Семплировании Томпсона - одно из лучших решений задачи о многоруком бандите(вы скоро это увидите), поэтому изучить его поглубже совершенно точно стоит. Рекомендуется прочесть [этот](https://arxiv.org/pdf/1707.02038.pdf) материал."
   ]
  },
  {
   "cell_type": "markdown",
   "metadata": {},
   "source": [
    "# Имплементация вышеописанных стратегий"
   ]
  },
  {
   "cell_type": "markdown",
   "metadata": {},
   "source": [
    "## Общий класс для N-рукого бандита"
   ]
  },
  {
   "cell_type": "code",
   "execution_count": 1,
   "metadata": {},
   "outputs": [],
   "source": [
    "import time\n",
    "import numpy as np\n",
    "from scipy.stats import beta\n",
    "\n",
    "# Общий класс для Бернуллиевских бандитов\n",
    "class BernoulliBandit():\n",
    "\n",
    "    def __init__(self, n, probas=None):\n",
    "        assert probas is None or len(probas) == n\n",
    "        \n",
    "        # Кол-во ручек\n",
    "        self.n = n\n",
    "        \n",
    "        if probas is None:\n",
    "            np.random.seed(int(time.time()))\n",
    "            # Истинные вероятности ручек (случайно заданные)\n",
    "            self.probas = [np.random.random() for _ in range(self.n)]\n",
    "        else:\n",
    "            # Истинные вероятности ручек, если заданы в функции\n",
    "            self.probas = probas\n",
    "\n",
    "        # Вероятность оптимальной ручки\n",
    "        self.best_proba = max(self.probas)\n",
    "\n",
    "    def generate_reward(self, i):\n",
    "        # Генерация \"выигрыша\" для i-той ручки бандита\n",
    "        if np.random.random() < self.probas[i]:\n",
    "            return 1\n",
    "        else:\n",
    "            return 0"
   ]
  },
  {
   "cell_type": "markdown",
   "metadata": {},
   "source": [
    "## Общий класс для стратегии решения задачи N-рукого бандита"
   ]
  },
  {
   "cell_type": "code",
   "execution_count": 2,
   "metadata": {},
   "outputs": [],
   "source": [
    "# Класс для имплементации решения проблемы с бандитами \n",
    "\n",
    "class Solver():    \n",
    "    def __init__(self, bandit):\n",
    "        \"\"\"\n",
    "        bandit (Bandit): Инициализация бандита.\n",
    "        \"\"\"\n",
    "        assert isinstance(bandit, BernoulliBandit)\n",
    "        np.random.seed(int(time.time()))\n",
    "\n",
    "        self.bandit = bandit\n",
    "\n",
    "        self.counts = [0] * self.bandit.n\n",
    "        self.actions = []  # Список id ручек от 0 до bandit.n-1.\n",
    "        self.regret = 0.  # Суммарная ошибка.\n",
    "        self.regrets = [0.]  # История суммарной ошибки.\n",
    "\n",
    "    def update_regret(self, i):\n",
    "        # i (int): Индекс выбранной ручки.\n",
    "        self.regret += self.bandit.best_proba - self.bandit.probas[i]\n",
    "        self.regrets.append(self.regret)\n",
    "\n",
    "    # Dummy-метод оценки вероятностей (переопределяется для каждого solver'a)    \n",
    "    @property\n",
    "    def estimated_probas(self):\n",
    "        raise NotImplementedError\n",
    "    \n",
    "    # Dummy-метод перехода на следующий шаг (переопределяется для каждого solver'a)   \n",
    "    def run_one_step(self):\n",
    "        \"\"\"Return the machine index to take action on.\"\"\"\n",
    "        raise NotImplementedError\n",
    "\n",
    "    # Запуск работы бандита на num_steps шагов\n",
    "    def run(self, num_steps):\n",
    "        assert self.bandit is not None\n",
    "        for _ in range(num_steps):\n",
    "            i = self.run_one_step()\n",
    "\n",
    "            self.counts[i] += 1\n",
    "            self.actions.append(i)\n",
    "            self.update_regret(i)"
   ]
  },
  {
   "cell_type": "markdown",
   "metadata": {},
   "source": [
    "## Классы для разных стратегий решения задачи N-рукого бандита"
   ]
  },
  {
   "cell_type": "code",
   "execution_count": 75,
   "metadata": {},
   "outputs": [],
   "source": [
    "# epsilon-жадная стратегия\n",
    "\n",
    "class EpsilonGreedy(Solver):\n",
    "    def __init__(self, bandit, eps, init_proba=1.0):\n",
    "        \"\"\"\n",
    "        eps (float): Вероятность исследования случайной ручки.\n",
    "        init_proba (float): начальное значение =  1.0;\n",
    "        \"\"\"\n",
    "        # Сделали бандита\n",
    "        super(EpsilonGreedy, self).__init__(bandit)\n",
    "\n",
    "        assert 0. <= eps <= 1.0\n",
    "        # Задали epsilon\n",
    "        self.eps = eps\n",
    "        \n",
    "        self.estimates = [init_proba] * self.bandit.n  # Optimistic initialization\n",
    "\n",
    "    @property\n",
    "    def estimated_probas(self):\n",
    "        return self.estimates\n",
    "\n",
    "    def run_one_step(self):\n",
    "        if np.random.random() < self.eps:\n",
    "            # Дернули случайную ручку\n",
    "            i = np.random.randint(0, self.bandit.n)\n",
    "        else:\n",
    "            # Выбрали наилучшую (на данный момент) ручку\n",
    "            i = max(range(self.bandit.n), key=lambda x: self.estimates[x])\n",
    "\n",
    "        r = self.bandit.generate_reward(i)\n",
    "        \n",
    "        # Оценка для i-того бандита обновляется\n",
    "        self.estimates[i] += 1. / (self.counts[i] + 1) * (r - self.estimates[i])\n",
    "\n",
    "        return i\n",
    "\n",
    "# UCB1 стратегия\n",
    "class UCB1(Solver):\n",
    "    def __init__(self, bandit, init_proba=1.0):\n",
    "        super(UCB1, self).__init__(bandit)\n",
    "        self.t = 0\n",
    "        self.estimates = [init_proba] * self.bandit.n\n",
    "\n",
    "    @property\n",
    "    def estimated_probas(self):\n",
    "        return self.estimates\n",
    "\n",
    "    def run_one_step(self):\n",
    "        self.t += 1\n",
    "\n",
    "        # Выбрать лучшую ручку с учетом UCB.\n",
    "        i = max(range(self.bandit.n), key=lambda x: self.estimates[x] + np.sqrt(\n",
    "            2 * np.log(self.t) / (1 + self.counts[x])))\n",
    "        r = self.bandit.generate_reward(i)\n",
    "\n",
    "        self.estimates[i] += 1. / (self.counts[i] + 1) * (r - self.estimates[i])\n",
    "\n",
    "        return i\n",
    "\n",
    "# Байесовская UCB стратегия\n",
    "class BayesianUCB(Solver):\n",
    "    \"\"\"Предположим априорное Бета-распределение.\"\"\"\n",
    "\n",
    "    def __init__(self, bandit, c=2, init_a=1, init_b=1):\n",
    "        \"\"\"\n",
    "        c (float): Сколько стандартных отклонений рассматривать в качестве UCB.\n",
    "        init_a (int): Исходное значение a в Beta(a, b).\n",
    "        init_b (int): Исходное значение b в Beta(a, b).\n",
    "        \"\"\"\n",
    "        super(BayesianUCB, self).__init__(bandit)\n",
    "        self.c = c\n",
    "        self._as = [init_a] * self.bandit.n\n",
    "        self._bs = [init_b] * self.bandit.n\n",
    "\n",
    "    @property\n",
    "    def estimated_probas(self):\n",
    "        return [self._as[i] / float(self._as[i] + self._bs[i]) for i in range(self.bandit.n)]\n",
    "\n",
    "    def run_one_step(self):\n",
    "        # Выбрать лучшую ручку с учетом UCB.\n",
    "        i = max(\n",
    "            range(self.bandit.n),\n",
    "            key=lambda x: self._as[x] / float(self._as[x] + self._bs[x]) +\\\n",
    "            beta.std(self._as[x], self._bs[x]) * self.c\n",
    "        )\n",
    "        r = self.bandit.generate_reward(i)\n",
    "\n",
    "        # Обновление апостериорного бета-распределения\n",
    "        self._as[i] += r\n",
    "        self._bs[i] += (1 - r)\n",
    "\n",
    "        return i\n",
    "\n",
    "# Сэмплирование Томпсона\n",
    "class ThompsonSampling(Solver):\n",
    "    def __init__(self, bandit, init_a=1, init_b=1):\n",
    "        \"\"\"\n",
    "        init_a (int): Исходное значение a в Beta(a, b).\n",
    "        init_b (int): Исходное значение b в Beta(a, b).\n",
    "        \"\"\"\n",
    "        super(ThompsonSampling, self).__init__(bandit)\n",
    "\n",
    "        self._as = [init_a] * self.bandit.n\n",
    "        self._bs = [init_b] * self.bandit.n\n",
    "\n",
    "    @property\n",
    "    def estimated_probas(self):\n",
    "        return [self._as[i] / (self._as[i] + self._bs[i]) for i in range(self.bandit.n)]\n",
    "\n",
    "    def run_one_step(self):\n",
    "        samples = [np.random.beta(self._as[x], self._bs[x]) for x in range(self.bandit.n)]\n",
    "        i = max(range(self.bandit.n), key=lambda x: samples[x])\n",
    "        r = self.bandit.generate_reward(i)\n",
    "\n",
    "        self._as[i] += r\n",
    "        self._bs[i] += (1 - r)\n",
    "\n",
    "        return i"
   ]
  },
  {
   "cell_type": "markdown",
   "metadata": {},
   "source": [
    "## Рисовалка результатов"
   ]
  },
  {
   "cell_type": "code",
   "execution_count": 76,
   "metadata": {},
   "outputs": [],
   "source": [
    "import matplotlib\n",
    "import matplotlib.pyplot as plt\n",
    "import numpy as np\n",
    "\n",
    "\n",
    "def plot_results(solvers, solver_names):\n",
    "    \"\"\"\n",
    "    Отрисовка результатов различных стратегий для бандитов.\n",
    "    Args:\n",
    "        solvers (list<Solver>): Список решений проблемы бандитов, которые нужно подгонять.\n",
    "        solver_names (list<str)\n",
    "    \"\"\"\n",
    "    assert len(solvers) == len(solver_names)\n",
    "    assert all(map(lambda s: isinstance(s, Solver), solvers))\n",
    "    assert all(map(lambda s: len(s.regrets) > 0, solvers))\n",
    "\n",
    "    b = solvers[0].bandit\n",
    "\n",
    "    fig = plt.figure(figsize=(10, 10))\n",
    "\n",
    "    ax1 = fig.add_subplot(221)\n",
    "    ax2 = fig.add_subplot(222)\n",
    "    ax3 = fig.add_subplot(223)\n",
    "\n",
    "    # Рисунок. 1: Зависимость ошибки от времени.\n",
    "    for i, s in enumerate(solvers):\n",
    "        ax1.plot(range(len(s.regrets)), s.regrets, label=solver_names[i])\n",
    "\n",
    "    ax1.set_xlabel('Время')\n",
    "    ax1.set_ylabel('Накопленная ошибка')\n",
    "    ax1.legend(loc=9, bbox_to_anchor=(1.82, -0.25), ncol=5)\n",
    "    ax1.grid('k', ls='--', alpha=0.3)\n",
    "\n",
    "    # Рисунок. 2: Вероятности, оцененные алгоритмами.\n",
    "    sorted_indices = sorted(range(b.n), key=lambda x: b.probas[x])\n",
    "    ax2.plot(range(b.n), [b.probas[x] for x in sorted_indices], 'k--', markersize=12)\n",
    "    for s in solvers:\n",
    "        ax2.plot(range(b.n), [s.estimated_probas[x] for x in sorted_indices], 'x', markeredgewidth=2)\n",
    "    ax2.set_xlabel('Ручки, отсортированные по ' + r'$\\theta$')\n",
    "    ax2.set_ylabel('Оцененная алгоритмом '+ r'$\\hat\\theta$')\n",
    "    ax2.grid('k', ls='--', alpha=0.3)\n",
    "\n",
    "    # Рисунок 3: Срабатывание ручек\n",
    "    for s in solvers:\n",
    "        ax3.plot(range(b.n), np.array(s.counts) / float(len(solvers[0].regrets)), ds='steps', lw=2)\n",
    "    ax3.set_xlabel('Ручки')\n",
    "    ax3.set_ylabel('Доля каждой ручки в общем кол-ве действий')\n",
    "    ax3.grid('k', ls='--', alpha=0.3)\n",
    "\n",
    "    plt.show()"
   ]
  },
  {
   "cell_type": "markdown",
   "metadata": {},
   "source": [
    "## Функция для решения задачи о K-руком бандите за N испытаний"
   ]
  },
  {
   "cell_type": "code",
   "execution_count": 84,
   "metadata": {},
   "outputs": [],
   "source": [
    "def experiment(K, N):\n",
    "    \"\"\"\n",
    "    Прогонка эксперимента с бернуллиевским бандитом с K руками,\n",
    "    в каждой из которых случайно задается вероятность выигрыша.\n",
    "    Args:\n",
    "        K (int): Кол-во ручек.\n",
    "        N (int): Кол-во испытаний.\n",
    "        test_solvers: Список моделей решения задачи о Бандите(эпсилон-жадная, UCB и тд)\n",
    "        names: Список названий стратегий для графиков\n",
    "    \"\"\"\n",
    "\n",
    "    b = BernoulliBandit(K, probas = [0, 0.1,0.2,0.3,0.4,0.8,0.9,0.5,0.6,0.7])\n",
    "    print(\"Истинные вероятности выигрыша у Бернуллиевского бандита:\\n\", b.probas)\n",
    "    print(\"У лучшей ручки индекс: {} и вероятность: {}\".format(\n",
    "        max(range(K), key=lambda i: b.probas[i]), max(b.probas)))\n",
    "    \n",
    "    test_solvers = [\n",
    "#         EpsilonGreedy(b, 0),\n",
    "#         EpsilonGreedy(b, 1),\n",
    "        EpsilonGreedy(b, 0.01),\n",
    "        UCB1(b),\n",
    "        BayesianUCB(b, 3, 1, 1),\n",
    "        ThompsonSampling(b, 1, 1)\n",
    "    ]\n",
    "    names = [\n",
    "#         'Full-exploitation',\n",
    "#         'Full-exploration',\n",
    "        r'$\\epsilon$' + '-Greedy',\n",
    "        'UCB1',\n",
    "        'Bayesian UCB',\n",
    "        'Thompson Sampling'\n",
    "    ]\n",
    "\n",
    "    for s in test_solvers:\n",
    "        s.run(N)\n",
    "\n",
    "    plot_results(test_solvers, names)"
   ]
  },
  {
   "cell_type": "markdown",
   "metadata": {},
   "source": [
    "## Эксперимент"
   ]
  },
  {
   "cell_type": "code",
   "execution_count": 90,
   "metadata": {},
   "outputs": [
    {
     "name": "stdout",
     "output_type": "stream",
     "text": [
      "Истинные вероятности выигрыша у Бернуллиевского бандита:\n",
      " [0, 0.1, 0.2, 0.3, 0.4, 0.8, 0.9, 0.5, 0.6, 0.7]\n",
      "У лучшей ручки индекс: 6 и вероятность: 0.9\n"
     ]
    },
    {
     "data": {
      "image/png": "[encoded data removed]",
      "text/plain": [
       "<Figure size 720x720 with 3 Axes>"
      ]
     },
     "metadata": {
      "needs_background": "light"
     },
     "output_type": "display_data"
    }
   ],
   "source": [
    "experiment(10,10000)"
   ]
  },
  {
   "cell_type": "code",
   "execution_count": null,
   "metadata": {},
   "outputs": [],
   "source": []
  }
 ],
 "metadata": {
  "kernelspec": {
   "display_name": "Python 3",
   "language": "python",
   "name": "python3"
  },
  "language_info": {
   "codemirror_mode": {
    "name": "ipython",
    "version": 3
   },
   "file_extension": ".py",
   "mimetype": "text/x-python",
   "name": "python",
   "nbconvert_exporter": "python",
   "pygments_lexer": "ipython3",
   "version": "3.8.3"
  }
 },
 "nbformat": 4,
 "nbformat_minor": 4
}
