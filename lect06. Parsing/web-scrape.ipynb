{
 "cells": [
  {
   "cell_type": "markdown",
   "metadata": {},
   "source": [
    "# Python для анализа данных\n",
    "\n",
    "*Алла Тамбовцева, НИУ ВШЭ*"
   ]
  },
  {
   "cell_type": "markdown",
   "metadata": {},
   "source": [
    "## Web-scraping\n",
    "\n",
    "Мы уже немного познакомились со структурой html-файлов, теперь попробуем выгрузить информацию из реальной страницы, а точнее, с реального сайта [nplus1.ru](https://nplus1.ru/).\n",
    "\n",
    "**Наша задача:** выгрузить недавние новости в датафрейм `pandas`, чтобы потом сохранить все в csv-файл.\n",
    "\n",
    "Сначала сгрузим весь html-код страницы и сохраним его в отдельную переменную. Для этого нам понадобится библиотека `requests`. Импортируем её:"
   ]
  },
  {
   "cell_type": "code",
   "execution_count": 1,
   "metadata": {},
   "outputs": [],
   "source": [
    "import requests"
   ]
  },
  {
   "cell_type": "markdown",
   "metadata": {},
   "source": [
    "Сохраним ссылку на главную страницу сайта в переменную `url` для удобства и выгрузим страницу. (Разумеется, это будет работать при подключении к интернету. Если соединение будет отключено, Python выдаст `NewConnectionError`)."
   ]
  },
  {
   "cell_type": "code",
   "execution_count": 2,
   "metadata": {},
   "outputs": [],
   "source": [
    "url = 'https://nplus1.ru/' # сохраняем\n",
    "page = requests.get(url) # загружаем страницу по ссылке"
   ]
  },
  {
   "cell_type": "markdown",
   "metadata": {},
   "source": [
    "Если мы просто посмотрим на объект, мы ничего особенного не увидим:"
   ]
  },
  {
   "cell_type": "code",
   "execution_count": 3,
   "metadata": {},
   "outputs": [
    {
     "data": {
      "text/plain": [
       "<Response [200]>"
      ]
     },
     "execution_count": 3,
     "metadata": {},
     "output_type": "execute_result"
    }
   ],
   "source": [
    "page  # response 200 - страница загружена"
   ]
  },
  {
   "cell_type": "code",
   "execution_count": 4,
   "metadata": {},
   "outputs": [],
   "source": [
    "# page.text"
   ]
  },
  {
   "cell_type": "markdown",
   "metadata": {},
   "source": [
    "Импортируем функцию `BeautifulSoup` из библиотеки `bs4` (от *beautifulsoup4*) и заберём со страницы `page` код html в виде текста. "
   ]
  },
  {
   "cell_type": "code",
   "execution_count": 4,
   "metadata": {},
   "outputs": [],
   "source": [
    "from bs4 import BeautifulSoup  # не спрашивайте, почему BeautifulSoup"
   ]
  },
  {
   "cell_type": "code",
   "execution_count": 5,
   "metadata": {},
   "outputs": [],
   "source": [
    "soup = BeautifulSoup(page.text, 'html')"
   ]
  },
  {
   "cell_type": "markdown",
   "metadata": {},
   "source": [
    "Если выведем `soup` на экран, мы увидим то же самое, что в режиме разработчика или в режиме происмотра исходного кода (`view-source` через *Ctrl+U* в Google Chrome)."
   ]
  },
  {
   "cell_type": "code",
   "execution_count": 7,
   "metadata": {},
   "outputs": [],
   "source": [
    "# soup"
   ]
  },
  {
   "cell_type": "markdown",
   "metadata": {},
   "source": [
    "Для просмотра выглядит не очень удобно.  «Причешем» наш `soup` – воспользуемся методом `.prettify()` в сочетании с функцией `print()`."
   ]
  },
  {
   "cell_type": "code",
   "execution_count": 8,
   "metadata": {},
   "outputs": [],
   "source": [
    "# print(soup.prettify())"
   ]
  },
  {
   "cell_type": "markdown",
   "metadata": {},
   "source": [
    "В такой выдаче ориентироваться гораздо удобнее (но при желании, то же можно увидеть в браузере, на большом экране)."
   ]
  },
  {
   "cell_type": "markdown",
   "metadata": {},
   "source": [
    "\n",
    "Чтобы сгрузить все новости с главной страницы сайта, нужно собрать все ссылки на страницы с этими новостями. Ссылки в html-файле всегда заключены в тэг `<a></a>` и имеют атрибут `href`. Посмотрим на кусочки кода, соответствующие всем ссылкам на главной странице сайта:"
   ]
  },
  {
   "cell_type": "code",
   "execution_count": 13,
   "metadata": {
    "scrolled": true
   },
   "outputs": [
    {
     "data": {
      "text/plain": [
       "False"
      ]
     },
     "execution_count": 13,
     "metadata": {},
     "output_type": "execute_result"
    }
   ],
   "source": []
  },
  {
   "cell_type": "markdown",
   "metadata": {},
   "source": [
    "Ссылок много. Но нам нужны только новости – ссылки, которые начинаются со слова `/news`. Добавим условие: будем выбирать только те ссылки, в которых есть `/news`. Создадим пустой список `urls` и будем добавлять в него только ссылки, которые удовлетворяют этому условию."
   ]
  },
  {
   "cell_type": "code",
   "execution_count": 14,
   "metadata": {},
   "outputs": [],
   "source": [
    "# urls = []\n",
    "\n",
    "# for link in soup.find_all('a'):\n",
    "#     if '/news' in link.get('href'):\n",
    "#         urls.append('https://nplus1.ru'+link.get('href'))\n",
    "\n",
    "urls = [link.get('href') \n",
    "        for link in soup.find_all('a') \n",
    "        if 'https://nplus1.ru/news/2023' in link.get('href')]"
   ]
  },
  {
   "cell_type": "markdown",
   "metadata": {},
   "source": [
    "Ссылки, которые у нас есть в списке `urls`, относительные: они неполные, начало ссылки (название сайта) отсутствует. Давайте превратим их в абсолютные ‒ склеим с ссылкой https://nplus1.ru."
   ]
  },
  {
   "cell_type": "code",
   "execution_count": 19,
   "metadata": {},
   "outputs": [],
   "source": [
    "urls = list(set(urls))"
   ]
  },
  {
   "cell_type": "code",
   "execution_count": 26,
   "metadata": {},
   "outputs": [],
   "source": [
    "# full_urls = []\n",
    "\n",
    "# for u in urls:\n",
    "#     res = 'https://nplus1.ru' + u\n",
    "#     full_urls.append(res) \n",
    "\n",
    "# full_urls"
   ]
  },
  {
   "cell_type": "code",
   "execution_count": 15,
   "metadata": {},
   "outputs": [],
   "source": [
    "# urls"
   ]
  },
  {
   "cell_type": "markdown",
   "metadata": {},
   "source": [
    "Теперь наша задача сводится к следующему: изучить одну страницу с новостью, научиться из нее вытаскивать текст и всю необходимую информацию, а потом применить весь набор действий к каждой ссылке из `full_urls` в цикле. Посмотрим на новость с индексом 1, у вас может быть другая, новости обновляются."
   ]
  },
  {
   "cell_type": "code",
   "execution_count": 20,
   "metadata": {},
   "outputs": [],
   "source": [
    "url0 = urls[0]\n",
    "\n",
    "page0 = requests.get(url0)\n",
    "soup0 = BeautifulSoup(page0.text, 'html')"
   ]
  },
  {
   "cell_type": "code",
   "execution_count": 21,
   "metadata": {},
   "outputs": [
    {
     "data": {
      "text/plain": [
       "'https://nplus1.ru/news/2023/10/16/neutral-atoms-new-level-fidelity'"
      ]
     },
     "execution_count": 21,
     "metadata": {},
     "output_type": "execute_result"
    }
   ],
   "source": [
    "url0"
   ]
  },
  {
   "cell_type": "markdown",
   "metadata": {},
   "source": [
    "В коде каждой страницы с новостью есть часть с мета-информацией: датой, именем автора и проч. Такая информация окружена тэгом `<meta></meta>`. Посмотрим:"
   ]
  },
  {
   "cell_type": "code",
   "execution_count": 22,
   "metadata": {},
   "outputs": [
    {
     "data": {
      "text/plain": [
       "[<meta charset=\"utf-8\"/>,\n",
       " <meta content=\"width=device-width, initial-scale=1\" name=\"viewport\"/>,\n",
       " <meta content=\"#f26e40\" name=\"msapplication-TileColor\"/>,\n",
       " <meta content=\"#ffffff\" name=\"theme-color\"/>,\n",
       " <meta content=\"8c90b02c84ac3b72\" name=\"yandex-verification\"/>,\n",
       " <meta content=\"b419949322895fc9106e24ed01be58ac\" name=\"pmail-verification\"/>,\n",
       " <meta content=\"N + 1 — главное издание о науке, технике и технологиях\" name=\"description\"/>,\n",
       " <meta content=\"N + 1 — главное издание о науке, технике и технологиях\" property=\"og:site_name\"/>,\n",
       " <meta content=\"Квантовые вычислители на нейтральных атомах запутали и изменили три кубита за раз\" property=\"og:title\"/>,\n",
       " <meta content=\"https://minio.nplus1.ru/app-images/844852/652ced7c6b9ca_cover_share.jpg\" property=\"og:image\"/>,\n",
       " <meta content=\"https://nplus1.ru/news/2023/10/16/neutral-atoms-new-level-fidelity\" property=\"og:url\"/>,\n",
       " <meta content=\"N + 1 — главное издание о науке, технике и технологиях\" property=\"og:description\"/>,\n",
       " <meta content=\"article\" property=\"og:type\"/>,\n",
       " <meta content=\"2023-10-16\" itemprop=\"datePublished\"/>,\n",
       " <meta content=\"2023-10-16\" itemprop=\"datePublished\"/>,\n",
       " <meta content=\"Оксана Борзенкова\" name=\"mediator_author\"/>,\n",
       " <meta content=\"Оксана Борзенкова\" name=\"author\"/>,\n",
       " <meta content=\"\" name=\"copyright\"/>,\n",
       " <meta content=\"summary_large_image\" name=\"twitter:card\"/>,\n",
       " <meta content=\"@nplusodin\" name=\"twitter:site\"/>,\n",
       " <meta content=\"Квантовые вычислители на нейтральных атомах запутали и изменили три кубита за раз\" name=\"twitter:title\"/>,\n",
       " <meta content=\"N + 1 — главное издание о науке, технике и технологиях\" name=\"twitter:description\"/>,\n",
       " <meta content=\"https://minio.nplus1.ru/app-images/844852/652ced7c6b9ca_cover_share.jpg\" name=\"twitter:image\"/>]"
      ]
     },
     "execution_count": 22,
     "metadata": {},
     "output_type": "execute_result"
    }
   ],
   "source": [
    "soup0.find_all('meta')"
   ]
  },
  {
   "cell_type": "code",
   "execution_count": null,
   "metadata": {},
   "outputs": [],
   "source": []
  },
  {
   "cell_type": "markdown",
   "metadata": {},
   "source": [
    "Из этого списка нам нужны части с именем автора, датой, заголовком и кратким описанием. Воспользуемся поиском по атрибуту `name`. Передадим функции `find_all()` в качестве аргумента словарь с названием и значением атрибута: "
   ]
  },
  {
   "cell_type": "code",
   "execution_count": 23,
   "metadata": {},
   "outputs": [
    {
     "data": {
      "text/plain": [
       "[<meta content=\"Оксана Борзенкова\" name=\"author\"/>]"
      ]
     },
     "execution_count": 23,
     "metadata": {},
     "output_type": "execute_result"
    }
   ],
   "source": [
    "soup0.find_all('meta', {'name' : 'author'}) # например, автор"
   ]
  },
  {
   "cell_type": "markdown",
   "metadata": {},
   "source": [
    "Теперь выберем единственный элемент полученного списка (с индексом 0):"
   ]
  },
  {
   "cell_type": "code",
   "execution_count": 24,
   "metadata": {},
   "outputs": [
    {
     "data": {
      "text/plain": [
       "<meta content=\"Оксана Борзенкова\" name=\"author\"/>"
      ]
     },
     "execution_count": 24,
     "metadata": {},
     "output_type": "execute_result"
    }
   ],
   "source": [
    "soup0.find_all('meta', {'name' : 'author'})[0]"
   ]
  },
  {
   "cell_type": "markdown",
   "metadata": {},
   "source": [
    "Нам нужно вытащить из этого объекта `content` – имя автора. Посмотрим на атрибуты:"
   ]
  },
  {
   "cell_type": "code",
   "execution_count": 25,
   "metadata": {},
   "outputs": [
    {
     "data": {
      "text/plain": [
       "'Оксана Борзенкова'"
      ]
     },
     "execution_count": 25,
     "metadata": {},
     "output_type": "execute_result"
    }
   ],
   "source": [
    "soup0.find_all('meta', {'name' : 'author'})[0].get('content')"
   ]
  },
  {
   "cell_type": "markdown",
   "metadata": {},
   "source": [
    "Как получить отсюда `content`? Очень просто, ведь это словарь! А доставать из словаря значение по ключу мы умеем."
   ]
  },
  {
   "cell_type": "code",
   "execution_count": 26,
   "metadata": {},
   "outputs": [
    {
     "data": {
      "text/plain": [
       "{'name': 'author', 'content': 'Оксана Борзенкова'}"
      ]
     },
     "execution_count": 26,
     "metadata": {},
     "output_type": "execute_result"
    }
   ],
   "source": [
    "author = soup0.find_all('meta', {'name' : 'author'})[0].attrs\n",
    "author"
   ]
  },
  {
   "cell_type": "markdown",
   "metadata": {},
   "source": [
    "Аналогичным образом извлечем дату, заголовок и описание."
   ]
  },
  {
   "cell_type": "code",
   "execution_count": 28,
   "metadata": {},
   "outputs": [
    {
     "data": {
      "text/plain": [
       "'Квантовые вычислители на\\xa0нейтральных атомах запутали и\\xa0изменили три кубита за\\xa0раз'"
      ]
     },
     "execution_count": 28,
     "metadata": {},
     "output_type": "execute_result"
    }
   ],
   "source": [
    "soup0.find_all('meta', {'property' : 'og:title'})[0].get('content')"
   ]
  },
  {
   "cell_type": "code",
   "execution_count": 29,
   "metadata": {},
   "outputs": [],
   "source": [
    "date = soup0.find_all('meta', {'itemprop' : 'datePublished'})[0].get('content')\n",
    "title = soup0.find_all('meta', {'property' : 'og:title'})[0].get('content')\n",
    "description = soup0.find_all('h1', {'class':'text-34 md:text-42 xl:text-52 break-words'})[0].get_text().strip() \\\n",
    "+ '\\n' + soup0.find_all('p', {'class':\"text-36 md:text-44 xl:text-54 font-spectral text-main-gray mb-6\"})[0].get_text().strip()\n",
    "\n"
   ]
  },
  {
   "cell_type": "code",
   "execution_count": 30,
   "metadata": {},
   "outputs": [
    {
     "data": {
      "text/plain": [
       "'Квантовые вычислители на\\xa0нейтральных атомах запутали и\\xa0изменили три кубита за\\xa0раз\\nА\\xa0еще они теперь могут исправлять ошибки во\\xa0время вычисления'"
      ]
     },
     "execution_count": 30,
     "metadata": {},
     "output_type": "execute_result"
    }
   ],
   "source": [
    "description"
   ]
  },
  {
   "cell_type": "markdown",
   "metadata": {},
   "source": [
    "Осталось вытащить рубрики и сложность текста. Если мы посмотрим на исходный код страницы, мы увидим, что нужная нам информация находится в тэгах `<p></p>`:"
   ]
  },
  {
   "cell_type": "code",
   "execution_count": 32,
   "metadata": {},
   "outputs": [
    {
     "data": {
      "text/plain": [
       "[<span class=\"relative before:block before:w-px before:bg-current before:h-4 before:absolute before:left-0 group pl-2 flex inline-flex items-center\">\n",
       " <span class=\"group-hover:text-main transition-colors duration-75\">18:42</span>\n",
       " </span>,\n",
       " <span class=\"group-hover:text-main transition-colors duration-75\">18:42</span>,\n",
       " <span class=\"group-hover:text-main transition-colors duration-75\">16.10.23</span>,\n",
       " <span class=\"group-hover:text-main transition-colors duration-75\">8.3</span>,\n",
       " <span class=\"group-hover:text-main transition-colors duration-75\">Физика</span>]"
      ]
     },
     "execution_count": 32,
     "metadata": {},
     "output_type": "execute_result"
    }
   ],
   "source": [
    "soup0.find_all('div', {'class':\"flex flex-wrap lg:mb-10 gap-2 text-tags xl:pr-9\"})[0].find_all('span')"
   ]
  },
  {
   "cell_type": "code",
   "execution_count": null,
   "metadata": {},
   "outputs": [],
   "source": []
  },
  {
   "cell_type": "code",
   "execution_count": 34,
   "metadata": {},
   "outputs": [],
   "source": [
    "new_data = soup0.find_all('div', {'class':\"flex flex-wrap lg:mb-10 gap-2 text-tags xl:pr-9\"})[0].find_all('span')[1:]\n",
    "\n",
    "time_published = new_data[0].get_text()\n",
    "date_published = new_data[1].get_text()\n",
    "complexity = new_data[2].get_text()\n",
    "themes = ', '.join(i.get_text() for i in new_data[3:])"
   ]
  },
  {
   "cell_type": "code",
   "execution_count": 36,
   "metadata": {},
   "outputs": [],
   "source": [
    "# soup0.find_all('p', {'class': 'mb-6'})"
   ]
  },
  {
   "cell_type": "code",
   "execution_count": 37,
   "metadata": {},
   "outputs": [],
   "source": [
    "paragraphs = soup0.find_all('p', {'class': 'mb-6'})[1:]\n"
   ]
  },
  {
   "cell_type": "code",
   "execution_count": 38,
   "metadata": {},
   "outputs": [],
   "source": [
    "links = set()\n",
    "for p in paragraphs:\n",
    "    links|={i.get('href') for i in p.find_all('a')}\n",
    "links = ', '.join(links)"
   ]
  },
  {
   "cell_type": "code",
   "execution_count": 44,
   "metadata": {},
   "outputs": [],
   "source": [
    "a = {1,3}\n",
    "a|={1,2}"
   ]
  },
  {
   "cell_type": "code",
   "execution_count": 45,
   "metadata": {},
   "outputs": [
    {
     "data": {
      "text/plain": [
       "{1, 2, 3}"
      ]
     },
     "execution_count": 45,
     "metadata": {},
     "output_type": "execute_result"
    }
   ],
   "source": [
    "a"
   ]
  },
  {
   "cell_type": "code",
   "execution_count": 41,
   "metadata": {},
   "outputs": [],
   "source": [
    "full_text = '\\n'.join([p.get_text() for p in paragraphs])"
   ]
  },
  {
   "cell_type": "code",
   "execution_count": 46,
   "metadata": {},
   "outputs": [
    {
     "data": {
      "text/plain": [
       "'Двум группам физиков на разных видах нейтральных атомов удалось добиться высокой точности одно-, двух- и даже трехкубитных операций, протестировать код коррекции ошибок и усовершенстовать свои предыдущие результаты в приготовлении запутанных состояний. Обе работы (1, 2) опубликованы в журнале Nature.\\nПлатформы на нейтральных атомах и ионах приобретают все большую популярность в среде квантовых вычислений. Ученым уже удалось собрать симуляторы с сотнями атомов и реализовать на них алгоритмы.\\nДля улучшения характеристик систем на нейтральных атомах физики предлагают и пробуют еще не использованные разновидности атомов или комбинируют их между собой. Кроме того, они стараются сделать структуры из атомов, которые будут удобными для коррекции ошибок — это второй важный шаг после сбора и проверки системы. Из-за высокой чувствительности к внешним воздействиям квантовые вычислители оказываются очень шумными для реализации сложных алгоритмов, поэтому без коррекции ошибок двигаться дальше в их усовершенствовании невозможно.\\nФизикам под руководством Джефа Томпсона (Jeff D. Thompson) из Принстонского университета удалось реализовать на атоме иттербия-171 одно- и двухкубитные вентили с точностями 99,9 и 98 процентов соответственно. Помимо этого они предложили и реализовали эффективную схему коррекции ошибок, которая исправляет ошибки во время вычисления. О том, что атомы редкоземельных металлов могут оказаться очень удобны в качестве кубитов, говорили и прежде. Благодаря структуре энергетических уровней, в которой электрон может находиться в метастабильном возбужденном состоянии, на таких атомах получается реализовывать долгоживущие кубиты. А время жизни кубита непосредственно влияет на то, как много операций над ним можно выполнить, что тоже очень важно для создания мощных вычислителей.\\nЕще одно из достоинств иттербия-171 физики использовали при реализации квантового кода коррекции ошибок. Во время вычислений они следили за флуоресценцией для фиксации кубитов, в которых возникают ошибки и их исправления. Самыми удобными с точки зрения детектирования и исправления оказываются ошибки «стирания» — когда электрон в атоме неконтролируемо сваливается в основное состояние. Важно, что при таких ошибках легко определить в каком именно кубите возникла ошибка, а сама ошибка не влияет на состояние других кубитов, это сильно упрощает сам процесс коррекции.\\nДетектирование ошибок ученые проводили с помощью быстрого получения изображений атомов (fast fluorescence imaging), которые находятся в основном состоянии, он занимает порядка 20 микросекунд, что очень мало в сравнении со временем жизни кубитов — порядка единиц секунд. Даже измерение финального состояния после всех преобразований занимает в 160 раз больше времени, чем проверка системы на наличие ошибок.\\nВсе описанные улучшения важно охарактеризовать количественно — то есть показать, с какой точностью можно реализовать одно- и двухкубитные операции и сколько их можно реализовать за время жизни системы. Однокубитные вентили авторы тестировали запуском на вычислителе рандомизированного теста из 300 однокубитных операций, при этом каждые 50 операций они делали проверку и коррекцию ошибок. Тестирование двухкубитных вентилей проводили двумя разными способами: в одном эксперименте приготавливали и измеряли состояния Белла, а в другом к рандомизированному тесту из однокубитных вентилей добавляли 10 двухкубитных CZ вентилей. В последнем случае код коррекции ошибок запускали после каждых двух вентилей CZ.\\nАвторы второй статьи, физики под руководством Михаила Лукина (Mikhail D. Lukin) из Гарвардского университета, сделали акцент на «запутывающие» операции (например, описанный выше CZ), но помимо двухкубитных авторам удалось реализовать и трехкубитные операции с высокой точностью и протестировать с ними схему из 60 атомов. Важно, что запутывать атомы можно параллельно с их позиционированием — это позволяет ускорить вычисления.\\nФизики выделили основные причины ошибок, с которыми им пришлось бороться: спонтанная эмиссия (авторы прошлой статьи отнесли ее к ошибкам стирания); температурные эффекты, ограниченное время жизни Ридберговского состояния, которое используется для двухкубитных вентилей; экспериментальные неидельности. С первой проблемой помогло справиться увеличение отстройки промежуточных состояний, а для решения второй ученые использовали одну из разновидностей суб-доплеровского охлаждения (⅄-enchanced grey molasses cooling), с помощью которой добились более низких температур.\\nАвторам удалось собрать атомы в цепочку, которая состояла из 10 состояний Белла (в каждом пара атомов) с точностью в 98 процентов, что на 2 процента лучше, чем в их предыдущей работе. После этого они проводили разные последовательности операций над этой цепочкой: применяли нечетное число CZ вентилей, чтобы посмотреть, как спадает точность с увеличением их числа; как и в работе ученых из Принстона они перемешивали CZ вентили с однокубитными и смотрели на итоговое состояние. Все это для того, чтобы определить точность операций в разных конфигурациях экспериментов. Точность двухкубитных операций оказалась равно 99,5 процента. Последним экспериментом была реализация трехкубитного вентиля CCZ. Для этого потребовалась цепочка уже из 60 атомов и приготовление не состояния Белла, а GHZ (это когда между собой запутаны сразу три кубита). Точность такой операции составила 97, 9 процента. Кроме того, ученые предложили как реализовать такие же быстрые нативные вентили для 4,5 и 6 кубитов.\\nПодробнее о том, какие классические коды коррекции ошибок существуют и как они работают можно узнать из нашего материала «Квантовая коррекция». Как применяется квантовая коррекция ошибок на другой платформе — сверхпроводниках — из работ по усовершенствованию системы из кубитов-трансмонов и демонстрации возможностей флаксониевых кубитов.\\nА также за работы в области квантовой теории поля и дифференциальной геометрии\\nОрганизационный комитет премии Breakthrough Prize огласил имена лауреатов во всех номинациях. Как сообщается на сайте премии, в этом году премию в области наук о жизни получили ученые, которые совершили прорыв в разработке лекарственной терапии рака, муковисцидоза, а также открыли биохимическую основу болезни Паркинсона. Премия за прорыв в области фундаментальной физики присуждена за работы по квантовой теории поля, а в области математики — за ряд знаменательных изменений в дифференциальной геометрии.'"
      ]
     },
     "execution_count": 46,
     "metadata": {},
     "output_type": "execute_result"
    }
   ],
   "source": [
    "full_text.replace('\\xa0', ' ')"
   ]
  },
  {
   "cell_type": "markdown",
   "metadata": {},
   "source": [
    "Не прошло и двух пар, как мы разобрались со всем :) Теперь осталось совсем чуть-чуть. Написать готовую функцию для всех проделанных нами действий и применить ее в цикле для всех ссылок в списке `full_urls`. Напишем! Аргументом функции будет ссылка на новость, а возвращать она будет текст новости и всю необходимую информацию (дата, автор, сложность и проч.). Скопируем все строки кода выше."
   ]
  },
  {
   "cell_type": "code",
   "execution_count": 47,
   "metadata": {},
   "outputs": [],
   "source": [
    "def GetNews(url0):\n",
    "    \"\"\"\n",
    "    Returns a tuple with \n",
    "    url0, date_published, time_published, author, description, title, complexity, themes, links,full_text\n",
    "    Parameters:\n",
    "    \n",
    "    url0 is a link to the news (string)\n",
    "    \"\"\"\n",
    "    page0 = requests.get(url0)\n",
    "    soup0 = BeautifulSoup(page0.text, 'lxml')\n",
    "    \n",
    "    author = soup0.find_all('meta', {'name' : 'author'})[0].get('content')\n",
    "    date = soup0.find_all('meta', {'itemprop' : 'datePublished'})[0].get('content')\n",
    "    title = soup0.find_all('meta', {'property' : 'og:title'})[0].get('content')\n",
    "    description = soup0.find_all('h1', {'class':'text-34 md:text-42 xl:text-52 break-words'})[0].get_text().strip() \\\n",
    "+ '\\n' + soup0.find_all('p', {'class':\"text-36 md:text-44 xl:text-54 font-spectral text-main-gray mb-6\"})[0].get_text().strip()\n",
    "\n",
    "\n",
    "    \n",
    "    new_data = soup0.find_all('div', {'class':\"flex flex-wrap lg:mb-10 gap-2 text-tags xl:pr-9\"})[0].find_all('span')[1:]\n",
    "\n",
    "    time_published = new_data[0].get_text()\n",
    "    date_published = new_data[1].get_text()\n",
    "    complexity = new_data[2].get_text()\n",
    "    themes = ', '.join(i.get_text() for i in new_data[3:])\n",
    "    \n",
    "    paragraphs = soup0.find_all('p', {'class': 'mb-6'})[1:]\n",
    "    links = set()\n",
    "    for p in paragraphs:\n",
    "        links|={i.get('href') for i in p.find_all('a')}\n",
    "    links -= {None} # Если вдруг у нас есть None-ссылка\n",
    "    links = {''} if not links else links\n",
    "    links = ', '.join(links)\n",
    "    full_text = '\\n'.join([p.get_text() for p in paragraphs]).replace('\\xa0', ' ')\n",
    "    \n",
    "    return url0, date_published, time_published, author, description, title, complexity, themes, links,full_text"
   ]
  },
  {
   "cell_type": "markdown",
   "metadata": {},
   "source": [
    "Уфф. Осталось применить ее в цикле. Но давайте не будем спешить: импортируем функцию `sleep` для задержки, чтобы на каждой итерации цикла, прежде чем перейти к следующей новости, Python ждал несколько секунд. Во-первых, это нужно, чтобы сайт «не понял», чтобы мы его грабим, да еще автоматически. Во-вторых, с небольшой задержкой всегда есть гарантия, что страница прогрузится (сейчас это пока не очень важно, но особенно актуально будет, когда будем обсуждать встраивание в браузер с Selenium). Приступим."
   ]
  },
  {
   "cell_type": "code",
   "execution_count": 50,
   "metadata": {},
   "outputs": [
    {
     "data": {
      "text/plain": [
       "46"
      ]
     },
     "execution_count": 50,
     "metadata": {},
     "output_type": "execute_result"
    }
   ],
   "source": [
    "len(set(urls))"
   ]
  },
  {
   "cell_type": "code",
   "execution_count": 66,
   "metadata": {},
   "outputs": [],
   "source": [
    "from time import sleep\n",
    "from tqdm import tqdm"
   ]
  },
  {
   "cell_type": "code",
   "execution_count": 51,
   "metadata": {},
   "outputs": [],
   "source": [
    "import random"
   ]
  },
  {
   "cell_type": "code",
   "execution_count": 64,
   "metadata": {},
   "outputs": [
    {
     "data": {
      "text/plain": [
       "1.2204338385057976"
      ]
     },
     "execution_count": 64,
     "metadata": {},
     "output_type": "execute_result"
    }
   ],
   "source": [
    "random.random()*2"
   ]
  },
  {
   "cell_type": "code",
   "execution_count": 67,
   "metadata": {},
   "outputs": [
    {
     "name": "stderr",
     "output_type": "stream",
     "text": [
      "100%|██████████| 46/46 [00:42<00:00,  1.09it/s]\n"
     ]
    }
   ],
   "source": [
    "news = [] # это будет список из кортежей, в которых будут храниться данные по каждой новости\n",
    "\n",
    "for link in tqdm(urls):\n",
    "    res = GetNews(link)\n",
    "    news.append(res)\n",
    "    sleep(random.random()) # задержка в 3 секунды"
   ]
  },
  {
   "cell_type": "code",
   "execution_count": 68,
   "metadata": {
    "scrolled": true
   },
   "outputs": [
    {
     "data": {
      "text/plain": [
       "('https://nplus1.ru/news/2023/10/17/older-siblings-and-risk-of-spondylitis',\n",
       " '17.10.23',\n",
       " '01:30',\n",
       " 'Слава Гоменюк',\n",
       " 'Удаление миндалин и\\xa0наличие старших братьев или сестер повысило риск развития болезни Бехтерева\\nТакже риск повысили детские инфекции',\n",
       " 'Удаление миндалин и\\xa0наличие старших братьев или сестер повысило риск развития болезни Бехтерева',\n",
       " '2.9',\n",
       " 'Медицина',\n",
       " 'https://nplus1.ru/news/2023/09/12/immune-mediated-inflammatory-diseases, https://doi.org/10.1136/rmdopen-2023-003438, https://pubmed.ncbi.nlm.nih.gov/31687771/',\n",
       " 'Выборка из более чем 27 тысяч человек показала, что наличие старших братьев и сестер на 12 процентов повышает риск развития анкилозирующего спондилоартрита — болезни Бехтерева. Помимо этого, как сообщается в журнале RMD Open, перенесенное в детстве удаление миндалин также повышает риск развития болезни — в среднем на 30 процентов, а тяжелые инфекции в детстве — на 13 процентов.\\nПри анкилозирующем спондилоартрите, или болезни Бехтерева, возникает воспаление и боль в суставах позвоночника, в основном в крестцово-подвздошных сочленениях. Известно, что наследственность играет значительную роль в развитии болезни, однако немаловажными триггерами считаются и факторы внешней среды: стресс, инфекции или изменения микробиома кишечника. Некоторые исследования связывали развитие болезни с факторами, связанными с перинатальным периодом и ранним возрастом, а также с хроническими воспалительными заболеваниями.\\nКоманда ученых под руководством Матильды Морин (Matilda Morin) из Каролинского института изучала шведские общенациональные популяционные регистры для проведения наиболее эффективного исследования связи детских инфекций и широкого спектра перинатальных факторов с развитием анкилозирующего спондилоартрита во взрослом возрасте. В исследование включили 6771 участника с болезнью Бехтерева, все они родились в Швеции с 1973 по 2004 год. Группа контроля состояла из 22042 человек. \\nПервичный сравнительный анализ показал, что наличие старших братьев и сестер, но не братьев и сестер в целом, выступает статистически значимым фактором риска развития анкилозирующего спондилоартрита. Кроме того, риск повышался на 13 процентов, если участник перенес в детстве тяжелые инфекции, которые потребовали госпитализации. А удаление миндалин в возрасте младше 16 лет повышало этот риск на 30 процентов. Также риск повышался в случае многоплодных родов — на 23 процента.\\nБолее подробный статистический анализ с поправкой на возможные ковариаты показал, что статистически значимая ассоциация сохраняется между болезнью Бехтерева и наличием старших братьев или сестер, а также удалением миндалин в детстве. \\nНайденные ассоциации расширяют диагностический потенциал анамнеза для врачей, подозревающих у своих пациентов анкилозирующий спондилоартрит. Однако в дальнейшем потребуются фундаментальные исследования, результаты которых могли бы объяснить эти связи.\\nРанее мы рассказывали, что в 2019 году ученые зарегистрировали почти 70 миллионов случаев иммуноопосредованных воспалительных заболеваний во всем мире.\\nОднако конкретный механизм возникновения эффекта еще предстоит найти\\n\\nУправление по контролю качества пищевых продуктов и лекарственных средств США (FDA) внесло кишечную непроходимость в список побочных действий препарата «Оземпик» с действующим веществом семаглутид, который применяют для лечения сахарного диабета второго типа и ожирения. Об этом сообщает издание Medical Xpress со ссылкой на инструкцию к препарату.\\n\\n\\n\\n\\n\\nПри этом управление не устанавливает прямую причинно-следственную связь между приемом препарата и наблюдаемым эффектом, поскольку сообщения об этом эффекте поступают разрозненно и пока невозможно оценить их частоту.\\n')"
      ]
     },
     "execution_count": 68,
     "metadata": {},
     "output_type": "execute_result"
    }
   ],
   "source": [
    "news[5]"
   ]
  },
  {
   "cell_type": "code",
   "execution_count": 20,
   "metadata": {},
   "outputs": [],
   "source": [
    "page0 = requests.get(urls[60])\n",
    "soup0 = BeautifulSoup(page0.text, 'lxml')"
   ]
  },
  {
   "cell_type": "code",
   "execution_count": 22,
   "metadata": {},
   "outputs": [],
   "source": [
    "paragraphs = soup0.find_all('p', {'class': 'mb-6'})[1:]"
   ]
  },
  {
   "cell_type": "code",
   "execution_count": 24,
   "metadata": {},
   "outputs": [],
   "source": [
    "links = set()\n",
    "for p in paragraphs:\n",
    "    links|={i.get('href') for i in p.find_all('a')}"
   ]
  },
  {
   "cell_type": "code",
   "execution_count": 26,
   "metadata": {},
   "outputs": [
    {
     "data": {
      "text/plain": [
       "{'https://journals.aps.org/prl/abstract/10.1103/PhysRevLett.130.106401',\n",
       " 'https://nplus1.ru/material/2017/07/28/protonpuzzle',\n",
       " 'https://nplus1.ru/news/2017/01/12/relativistic-gold',\n",
       " 'https://nplus1.ru/news/2017/10/13/chem-machine',\n",
       " 'https://ru.wikipedia.org/wiki/%D0%A2%D0%B5%D0%BE%D1%80%D0%B8%D1%8F_%D1%84%D1%83%D0%BD%D0%BA%D1%86%D0%B8%D0%BE%D0%BD%D0%B0%D0%BB%D0%B0_%D0%BF%D0%BB%D0%BE%D1%82%D0%BD%D0%BE%D1%81%D1%82%D0%B8',\n",
       " 'https://ru.wikipedia.org/wiki/%D0%A3%D1%80%D0%B0%D0%B2%D0%BD%D0%B5%D0%BD%D0%B8%D0%B5_%D0%A8%D1%80%D1%91%D0%B4%D0%B8%D0%BD%D0%B3%D0%B5%D1%80%D0%B0#%D0%A1%D1%82%D0%B0%D1%86%D0%B8%D0%BE%D0%BD%D0%B0%D1%80%D0%BD%D0%BE%D0%B5_%D1%83%D1%80%D0%B0%D0%B2%D0%BD%D0%B5%D0%BD%D0%B8%D0%B5_%D0%A8%D1%80%D1%91%D0%B4%D0%B8%D0%BD%D0%B3%D0%B5%D1%80%D0%B0'}"
      ]
     },
     "execution_count": 26,
     "metadata": {},
     "output_type": "execute_result"
    }
   ],
   "source": [
    "links - {None}"
   ]
  },
  {
   "cell_type": "code",
   "execution_count": null,
   "metadata": {},
   "outputs": [],
   "source": []
  },
  {
   "cell_type": "code",
   "execution_count": null,
   "metadata": {},
   "outputs": [],
   "source": []
  },
  {
   "cell_type": "markdown",
   "metadata": {},
   "source": [
    "Так теперь выглядит первый элемент списка:"
   ]
  },
  {
   "cell_type": "code",
   "execution_count": 39,
   "metadata": {},
   "outputs": [
    {
     "data": {
      "text/plain": [
       "('https://nplus1.ru/news/2023/03/31/Chondrostereum-purpureum',\n",
       " '31.03.23',\n",
       " '16:15',\n",
       " 'Слава Гоменюк',\n",
       " 'Грибковый паразит растений впервые заразил человека\\nПациент долгое время работал с гнилой древесиной',\n",
       " 'Грибковый паразит растений впервые заразил человека',\n",
       " '2.9',\n",
       " 'Медицина',\n",
       " 'https://doi.org/10.1016/j.mmcr.2023.03.001, https://doi.org/10.1111/1462-2920.15028, https://nplus1.ru/news/2022/11/17/quicksilver-rush, https://nplus1.ru/news/2023/03/21/2019-to-2021-candida-auris',\n",
       " 'В Индии миколог, который занимался исследованием растительных патогенов в мертвых деревьях, впервые в истории заразился паразитирующим на деревьях грибком Chondrostereum purpureum — хондростереумом пурпурным. У пациента не было нарушений иммунитета, в том числе ВИЧ-инфекции и диабета, и он не принимал иммуносупрессоры. Отчет о случае опубликован в журнале Medical Mycology Case Reports.\\nОбычно Chondrostereum purpureum паразитирует на живых деревьях, вызывая «млечный блеск» — заболевание, при котором грибок покрывает ветки и листья деревьев, после чего они приобретают серебряный, млечный оттенок. На стволе (и живом, и мертвом) гриб растет многочисленными черепитчатыми группами. При дальнейшем развитии болезни древесина разрушается и сгнивает, и грибок продолжает в ней жить.\\xa0\\nУ людей с ослабленным иммунитетом паразиты растений (в том числе грибковые) считаются условно-патогенными возбудителями инфекций. Однако Сома Датта (Soma Dutta) из Больницы Аполлона описала случай заражения 61-летнего индийского миколога, который занимался паразитарными грибками растений, Chondrostereum purpureum. \\nПациент обратился в больницу с жалобами на охрипший голос, кашель и затруднения при глотании. Кроме того, его беспокоила постоянная усталость и потеря веся в течения трех месяцев. Пациент не страдал от диабета, ВИЧ-инфекции и хронических заболеваний внутренних органов. Он не принимал иммуносупрессивные препараты и не получал травм в последнее время.\\xa0\\nРентгенография грудной клетки не показала никаких отклонений. Компьютерная томография (КТ) шеи выявила паратрахеальный абсцесс справа, который под контролем КТ вскрыли и аспирировали содержимое. Гистологическое исследование аспирата показало нейтрофилы и клетки слизистой оболочки бронхов и трахеи на фоне геморрагического некроза.\\nБактериологическое исследование аспирата не выявило патогенных возбудителей (в том числе микобактерий), а окрашивание на грибы показало перегородчатые гифы. После посева гнойного аспирата через 4-5 дней инкубации выросла кремово-пастообразная колония с желтовато-коричневым оттенком на основании. При окрашивании врачи обнаружили круглые и трубчатые грибковые элементы.\\xa0\\nПоскольку врачи не смогли по морфологии идентифицировать грибок, они отправили образцы в сертифицированную лабораторию Всемирной организации здравоохранения для секвенирования ДНК. Анализ показал, что в аспирате присутствует ДНК Chondrostereum purpureum. Пациент отрицал, что взаимодействовал с этим грибковым патогеном растений в своей работе, однако подтвердил, что долгое время работал с разлагающейся древесиной.\\nГной полностью дренировали из полости абсцесса, а пациенту назначили схему лечения вориконазолом. Спустя два года после выздоровления пациент был абсолютно здоров, рецидива инфекции не произошло.\\xa0\\nХотя грибковые заболевания встречаются у людей гораздо реже бактериальных и вирусных, они могут доставить много хлопот с их лечением. В США, например, продолжает распространяться грибок, который устойчив к большинству известных противогрибковых препаратов. А некоторые люди и вовсе ищут порой весьма спорные способы лечения: так, китаец решил вылечить грибковую кожную инфекцию внутривенным введением ртути. Врачи успели его спасти.\\nПостепенно в мозге сильнее и сильнее активировались те же зоны, что отвечают за распознавание собственного лица\\n')"
      ]
     },
     "execution_count": 39,
     "metadata": {},
     "output_type": "execute_result"
    }
   ],
   "source": [
    "news[0]"
   ]
  },
  {
   "cell_type": "markdown",
   "metadata": {},
   "source": [
    "Импортируем `pandas` и создадим датафрейм из списка кортежей: "
   ]
  },
  {
   "cell_type": "code",
   "execution_count": 69,
   "metadata": {},
   "outputs": [],
   "source": [
    "import pandas as pd"
   ]
  },
  {
   "cell_type": "code",
   "execution_count": 70,
   "metadata": {},
   "outputs": [],
   "source": [
    "df = pd.DataFrame(news)"
   ]
  },
  {
   "cell_type": "code",
   "execution_count": 71,
   "metadata": {},
   "outputs": [
    {
     "data": {
      "text/html": [
       "<div>\n",
       "<style scoped>\n",
       "    .dataframe tbody tr th:only-of-type {\n",
       "        vertical-align: middle;\n",
       "    }\n",
       "\n",
       "    .dataframe tbody tr th {\n",
       "        vertical-align: top;\n",
       "    }\n",
       "\n",
       "    .dataframe thead th {\n",
       "        text-align: right;\n",
       "    }\n",
       "</style>\n",
       "<table border=\"1\" class=\"dataframe\">\n",
       "  <thead>\n",
       "    <tr style=\"text-align: right;\">\n",
       "      <th></th>\n",
       "      <th>0</th>\n",
       "      <th>1</th>\n",
       "      <th>2</th>\n",
       "      <th>3</th>\n",
       "      <th>4</th>\n",
       "      <th>5</th>\n",
       "      <th>6</th>\n",
       "      <th>7</th>\n",
       "      <th>8</th>\n",
       "      <th>9</th>\n",
       "    </tr>\n",
       "  </thead>\n",
       "  <tbody>\n",
       "    <tr>\n",
       "      <th>0</th>\n",
       "      <td>https://nplus1.ru/news/2023/10/16/neutral-atom...</td>\n",
       "      <td>16.10.23</td>\n",
       "      <td>18:42</td>\n",
       "      <td>Оксана Борзенкова</td>\n",
       "      <td>Квантовые вычислители на нейтральных атомах за...</td>\n",
       "      <td>Квантовые вычислители на нейтральных атомах за...</td>\n",
       "      <td>8.3</td>\n",
       "      <td>Физика</td>\n",
       "      <td>https://www.nature.com/articles/s41586-023-064...</td>\n",
       "      <td>Двум группам физиков на разных видах нейтральн...</td>\n",
       "    </tr>\n",
       "    <tr>\n",
       "      <th>1</th>\n",
       "      <td>https://nplus1.ru/news/2023/10/04/sulfur-of-de...</td>\n",
       "      <td>04.10.23</td>\n",
       "      <td>21:00</td>\n",
       "      <td>Винера Андреева</td>\n",
       "      <td>Извержения Деканских траппов принесли динозавр...</td>\n",
       "      <td>Извержения Деканских траппов принесли динозавр...</td>\n",
       "      <td>5.6</td>\n",
       "      <td>Геология, Экология и климат</td>\n",
       "      <td>https://www.sciencedirect.com/science/article/...</td>\n",
       "      <td>Геохимики обнаружили в деканских лавах, залега...</td>\n",
       "    </tr>\n",
       "  </tbody>\n",
       "</table>\n",
       "</div>"
      ],
      "text/plain": [
       "                                                   0         1      2  \\\n",
       "0  https://nplus1.ru/news/2023/10/16/neutral-atom...  16.10.23  18:42   \n",
       "1  https://nplus1.ru/news/2023/10/04/sulfur-of-de...  04.10.23  21:00   \n",
       "\n",
       "                   3                                                  4  \\\n",
       "0  Оксана Борзенкова  Квантовые вычислители на нейтральных атомах за...   \n",
       "1    Винера Андреева  Извержения Деканских траппов принесли динозавр...   \n",
       "\n",
       "                                                   5    6  \\\n",
       "0  Квантовые вычислители на нейтральных атомах за...  8.3   \n",
       "1  Извержения Деканских траппов принесли динозавр...  5.6   \n",
       "\n",
       "                             7  \\\n",
       "0                       Физика   \n",
       "1  Геология, Экология и климат   \n",
       "\n",
       "                                                   8  \\\n",
       "0  https://www.nature.com/articles/s41586-023-064...   \n",
       "1  https://www.sciencedirect.com/science/article/...   \n",
       "\n",
       "                                                   9  \n",
       "0  Двум группам физиков на разных видах нейтральн...  \n",
       "1  Геохимики обнаружили в деканских лавах, залега...  "
      ]
     },
     "execution_count": 71,
     "metadata": {},
     "output_type": "execute_result"
    }
   ],
   "source": [
    "df.head(2)"
   ]
  },
  {
   "cell_type": "markdown",
   "metadata": {},
   "source": [
    "Переименуем столбцы в базе."
   ]
  },
  {
   "cell_type": "code",
   "execution_count": 72,
   "metadata": {},
   "outputs": [],
   "source": [
    "df.columns = ['url', 'date_published', 'time_published', 'author', 'description', 'title', 'complexity', 'themes', 'links','full_text']"
   ]
  },
  {
   "cell_type": "code",
   "execution_count": 74,
   "metadata": {},
   "outputs": [],
   "source": [
    "df.to_excel('parsed_news.xlsx')"
   ]
  },
  {
   "cell_type": "markdown",
   "metadata": {},
   "source": [
    "Теперь внесем изменения: сделаем столбец `diffc` числовым – типа *float*."
   ]
  },
  {
   "cell_type": "code",
   "execution_count": 44,
   "metadata": {},
   "outputs": [],
   "source": [
    "df['complexity'] = df['complexity'].apply(float)"
   ]
  },
  {
   "cell_type": "markdown",
   "metadata": {},
   "source": [
    "Теперь сложность представлена в базе как количественный показатель, и описывать ее можно соответствующим образом:"
   ]
  },
  {
   "cell_type": "code",
   "execution_count": 45,
   "metadata": {
    "scrolled": true
   },
   "outputs": [
    {
     "data": {
      "text/plain": [
       "count    71.000000\n",
       "mean      4.549296\n",
       "std       2.397193\n",
       "min       1.100000\n",
       "25%       2.850000\n",
       "50%       3.700000\n",
       "75%       6.550000\n",
       "max       9.500000\n",
       "Name: complexity, dtype: float64"
      ]
     },
     "execution_count": 45,
     "metadata": {},
     "output_type": "execute_result"
    }
   ],
   "source": [
    "df.complexity.describe()"
   ]
  },
  {
   "cell_type": "code",
   "execution_count": 77,
   "metadata": {},
   "outputs": [],
   "source": [
    "from matplotlib.cbook import flatten"
   ]
  },
  {
   "cell_type": "code",
   "execution_count": 85,
   "metadata": {},
   "outputs": [
    {
     "data": {
      "text/plain": [
       "[['Физика'],\n",
       " ['Геология', 'Экология и климат'],\n",
       " ['Астрономия'],\n",
       " ['Медицина', 'Биология', 'Зоология'],\n",
       " ['Медицина'],\n",
       " ['Антропология', 'Археология'],\n",
       " ['Археология', 'Антропология'],\n",
       " ['Роботы и дроны', 'Медицина', 'Технологии'],\n",
       " ['Роботы и дроны', 'Технологии'],\n",
       " ['Антропология', 'Химия'],\n",
       " ['Психология'],\n",
       " ['Экология и климат', 'Зоология'],\n",
       " ['Химия'],\n",
       " ['Медицина', 'Медицина'],\n",
       " ['Археология', 'История'],\n",
       " ['Медицина', 'Археология'],\n",
       " ['Авиация', 'Транспорт', 'Технологии'],\n",
       " ['Астрономия', 'Геология'],\n",
       " ['Археология'],\n",
       " ['Биология', 'Технологии'],\n",
       " ['Зоология'],\n",
       " ['Экология и климат', 'Медицина', 'Химия'],\n",
       " ['Археология', 'Зоология'],\n",
       " ['Экология и климат'],\n",
       " ['Антропология'],\n",
       " ['Космонавтика'],\n",
       " ['Геология'],\n",
       " ['Биология'],\n",
       " ['Физика', 'Математика'],\n",
       " ['Медицина', 'Социология']]"
      ]
     },
     "execution_count": 85,
     "metadata": {},
     "output_type": "execute_result"
    }
   ],
   "source": [
    "[i.split(', ') for i in df.themes.unique()]"
   ]
  },
  {
   "cell_type": "code",
   "execution_count": 58,
   "metadata": {},
   "outputs": [],
   "source": []
  },
  {
   "cell_type": "code",
   "execution_count": 86,
   "metadata": {},
   "outputs": [
    {
     "data": {
      "text/plain": [
       "['Авиация',\n",
       " 'Антропология',\n",
       " 'Археология',\n",
       " 'Астрономия',\n",
       " 'Биология',\n",
       " 'Геология',\n",
       " 'Зоология',\n",
       " 'История',\n",
       " 'Космонавтика',\n",
       " 'Математика',\n",
       " 'Медицина',\n",
       " 'Психология',\n",
       " 'Роботы и дроны',\n",
       " 'Социология',\n",
       " 'Технологии',\n",
       " 'Транспорт',\n",
       " 'Физика',\n",
       " 'Химия',\n",
       " 'Экология и климат']"
      ]
     },
     "execution_count": 86,
     "metadata": {},
     "output_type": "execute_result"
    }
   ],
   "source": [
    "len(set(flatten([i.split(', ') for i in df.themes.unique()])))"
   ]
  },
  {
   "cell_type": "code",
   "execution_count": 72,
   "metadata": {},
   "outputs": [
    {
     "data": {
      "text/plain": [
       "'Палеогенетики подтвердили, что первые домашние лошади у коренных общин центральных районов Великих равнин и северных районов Скалистых гор происходили от особей, завезенных в Америку испанцами. Более того, ученые нашли останки животных свидетельствующих в пользу того, что в этом регионе овладели навыками обращения с домашними лошадьми до восстания пуэбло, произошедшего в 1680 году. Обычно именно с этим событием связывают распространение коневодства среди коренных американцев, живших на территории современных США. Об этом сообщается в статье, опубликованной в журнале Science.\\nСогласно современным представлениям лошади (Equus) как отдельный род появились в Северной Америке между 4,5 и 4 миллионами лет назад, откуда по сухопутному мосту около 2,5 миллиона лет (по другим данным – около 0,9–0,8 миллиона лет назад) назад они переселились в Евразию. Вместе с тем в самой Америке уже в эпоху голоцена лошади вымерли – судя по ДНК, недавно извлеченной из образцов канадского грунта, это произошло около шести тысяч лет назад. Вновь эти непарнокопытные оказались в этой части света лишь с приходом европейцев в эпоху Великих географических открытий.\\nПервые домашние лошади прибыли на острова Карибского моря вместе со второй экспедицией Колумба в 1493 году. Однако на самом материке они оказались несколько позже – вместе с испанским конкистадором Эрнаном Кортесом в 1519 году, начавшим завоевание Мексики. В последующие столетия в разные регионы Америки лошадей завозили и из других европейских стран. Постепенно многие индейские общины привыкли к этим животным и начали сами их разводить.\\nСчитается, что для индейцев пуэбло поворотным моментом в освоении лошади стал 1680 год, когда они подняли успешное восстание против испанских колонизаторов, выбив их из Нуэво-Мехико и отобрав все имущество. Когда в 1692 году испанцы вернули себе контроль над этими землями, пуэбло уже успели овладеть навыками обращения с конями.\\nБольшая группа ученых из Великобритании, Германии, Израиля, Испании, Кипра, Нидерландов, США, Франции во главе с Людовиком Орландо (Ludovic Orlando) из Университета Поля Сабатье решила уточнить историю распространения домашних лошадей в Америке. Для этого ученые отобрали останки 33 американских лошадей, для 29 из которых удалось получить радиоуглеродные даты, а из 27 образцов извлечь ДНК. Кроме того, несколько новых древних геномов было прочитано из останков евразийских лошадей.\\nУченые отметили, что им удалось найти останки трех лошадей, живших до восстания пуэбло 1680 года на землях, которые в тот момент населяли коренные американцы. Они включали захоронение молодой лошади из юго-западного Вайоминга, череп взрослого животного из штата Канзас, а также фрагменты скелета из штата Нью-Мексико. Кроме того, ранее в штате Айдахо нашли останки лошади, которая жила между 1597 и 1657 годами. В то же время исследователи подчеркнули, что разрешающая способность радиоуглеродного метода не позволяет легко отличать образцы XVII и начала XX века, но по их уверениям возраст указанных находок установлен достаточно надежно.\\nГенетический анализ опроверг возможность того, что эти лошади восходят корнями к американской позднеплейстоценовой фауне. Напротив, они принадлежали к той же кладе, что и все остальные современные домашние лошади, которые начали распространяться из Понтийско-Каспийской степи в III тысячелетии до нашей эры. Ученые исключили возможность того, что ранние современные американские лошади могли оказаться на континенте вместе с викингами в начале XI века. Вместо этого они нашли подтверждения, что эти животные генетически близки к особям с Пиренейского полуострова.\\nИсследование останков XVII века показало, что индейцы не отловили на мясо сбежавших от испанцев коней, а использовали их для верховой езды. Более того, археологический контекст, в котором нашли скелет одной молодой лошади, указывает на то, что ее, возможно, похоронили в рамках ритуала.\\nАнализ стабильных изотопов стронция свидетельствует в пользу того, что как минимум две исследованные особи провели всю свою жизнь на землях, где отсутствовали европейские переселенцы. А стабильные изотопы углерода указывают на то, что в рационе животных было существенное количество растений с С4-фотосинтезом. По мнению ученых, видимо, это связано с тем, что зимой лошадей кормили домашней кукурузой – подобная практика известна из данных этнографии XVIII–XIX веков у некоторых коренных народов США.\\nУченые заключили, что домашние лошади появились у индейцев, проживавших в центральных районах Великих равнин и в районе северной части Скалистых гор, не позднее первой половины XVII века. Тем самым они полагают, что лошади распространились в регионе до восстания пуэбло, с которым обычно связывают этот процесс.\\nРанее на N + 1 рассказывали об исследовании старейшего на сегодняшний день генома домашней лошади из Америки. ДНК удалось выделить из зуба, найденного в испанском городе раннего колониального периода, который располагался на Гаити. Тогда ученые также подтвердили выводы, что первые домашние лошади Нового Света происходили с Пиренейского полуострова.\\nАнализ 271 древнего генома лошадей позволил генетикам установить, что прародина современных домашних животных находится в\\xa0Причерноморских степях, откуда в\\xa0конце III–II тысячелетии они начали распространяться в\\xa0другие регионы. Ученые полагают, что это связано с\\xa0началом использования лошадей в\\xa0качестве транспорта, например, для езды в\\xa0колесницах, древнейшие свидетельства чему датированы около 2000–1800 годов до\\xa0нашей эры. Результаты исследования опубликованы в\\xa0журнале Nature.'"
      ]
     },
     "execution_count": 72,
     "metadata": {},
     "output_type": "execute_result"
    }
   ],
   "source": [
    "df[df.themes.apply(lambda x: 'зоология' in x.lower())].sample(1).full_text.values[0]"
   ]
  },
  {
   "cell_type": "code",
   "execution_count": 52,
   "metadata": {},
   "outputs": [],
   "source": [
    "df.to_csv('news_plus_1.csv', \n",
    "          index = False, \n",
    "          sep = ';',  #  Сюда можно поставить произвольный символ, чтоб новость не ломать\n",
    "          encoding = 'utf-8-sig')"
   ]
  },
  {
   "cell_type": "markdown",
   "metadata": {},
   "source": [
    "Теперь столбец со сложностью точно числовой. Можем даже построить для него гистограмму."
   ]
  },
  {
   "cell_type": "code",
   "execution_count": 46,
   "metadata": {},
   "outputs": [
    {
     "data": {
      "text/plain": [
       "<matplotlib.axes._subplots.AxesSubplot at 0x7fa78425c160>"
      ]
     },
     "execution_count": 46,
     "metadata": {},
     "output_type": "execute_result"
    },
    {
     "data": {
      "image/png": "[encoded data removed]",
      "text/plain": [
       "<Figure size 432x288 with 1 Axes>"
      ]
     },
     "metadata": {
      "needs_background": "light"
     },
     "output_type": "display_data"
    }
   ],
   "source": [
    "%matplotlib inline\n",
    "df.complexity.plot.hist()"
   ]
  },
  {
   "cell_type": "markdown",
   "metadata": {},
   "source": [
    "Объединим рубрики в *text* в одну строку через запятую:"
   ]
  },
  {
   "cell_type": "code",
   "execution_count": 37,
   "metadata": {},
   "outputs": [],
   "source": [
    "df['rubric'] = [','.join(r) for r in df.rubric]"
   ]
  },
  {
   "cell_type": "markdown",
   "metadata": {},
   "source": [
    "Давайте почистим текст новостей – уберем оттуда текст, не относящийся к новостям. Найдем лишнее:"
   ]
  },
  {
   "cell_type": "code",
   "execution_count": null,
   "metadata": {},
   "outputs": [],
   "source": [
    "df.text[0]"
   ]
  },
  {
   "cell_type": "markdown",
   "metadata": {},
   "source": [
    "Лишний текст находится после фразы 'Нашли опечатку?'. Так давайте будем разбивать строки по этой фразе с помощью метода `.split()` и брать все, что до нее (элемент с индексом 0)."
   ]
  },
  {
   "cell_type": "code",
   "execution_count": 38,
   "metadata": {},
   "outputs": [],
   "source": [
    "df['clean_text'] = [t.split('Нашли опечатку?')[0] for t in df.text]"
   ]
  },
  {
   "cell_type": "markdown",
   "metadata": {},
   "source": [
    "Осталось только заменить непонятные символы `\\xa0` на пробелы:"
   ]
  },
  {
   "cell_type": "code",
   "execution_count": 39,
   "metadata": {},
   "outputs": [],
   "source": [
    "df['clean_text'] = [t.replace(\"\\xa0\", \" \") for t in df.clean_text]"
   ]
  },
  {
   "cell_type": "code",
   "execution_count": 40,
   "metadata": {},
   "outputs": [
    {
     "data": {
      "text/plain": [
       "'Российский военно-транспортный самолет Ил-112В совершил первый полет, сообщает Авиационный комплекс имени Ильюшина. Испытания прошли на аэродроме воронежского авиазавода ПАО «ВАСО», командиром экипажа был шеф-пилот ПАО «Ил» Герой России Николай Куимов. Первый полет стал завершением цикла аэродромной отработки, в ходе которой были проведены испытания всех систем, в том числе пробежки по аэродрому. Полет прошел в штатном режиме. В воздухе Ил-112В сопровождал самолет-лаборатория Ил-114ЛЛ. Ил-112В в перспективе должен заменить легкий транспортник Ан-26. Он будет использоваться для перевозки и десантирования легкой техники, грузов и бойцов, его грузоподъемность — около пяти тонн. Самолет сможет развивать скорость до 550 километров в час и совершать полеты на расстояние до 3,4 тысячи километров, а при взлете с грунтовых аэродромов и максимальной загрузкой — до 1,2 тысячи километров. Транспортник сможет взлетать с взлетно-посадочных полос длиной не более 900 метров. Пробег Ил-112В при посадке составит около 600 метров. Ранее Министерство обороны России объявляло о намерении приобрести 62 самолета этого типа до 2020 года, однако в августе 2018 года появилась информация о планах заказать не менее 100 машин. Сергей Кузнецов '"
      ]
     },
     "execution_count": 40,
     "metadata": {},
     "output_type": "execute_result"
    }
   ],
   "source": [
    "df.clean_text[0]"
   ]
  },
  {
   "cell_type": "markdown",
   "metadata": {},
   "source": [
    "Всё! Сохраняем датафрейм в файл. Для разнообразия сохраним в Excel:"
   ]
  },
  {
   "cell_type": "code",
   "execution_count": 41,
   "metadata": {},
   "outputs": [],
   "source": [
    "df.to_excel('nplus-news.xlsx')"
   ]
  }
 ],
 "metadata": {
  "kernelspec": {
   "display_name": "Python 3",
   "language": "python",
   "name": "python3"
  },
  "language_info": {
   "codemirror_mode": {
    "name": "ipython",
    "version": 3
   },
   "file_extension": ".py",
   "mimetype": "text/x-python",
   "name": "python",
   "nbconvert_exporter": "python",
   "pygments_lexer": "ipython3",
   "version": "3.8.3"
  }
 },
 "nbformat": 4,
 "nbformat_minor": 2
}
