{
 "cells": [
  {
   "cell_type": "markdown",
   "metadata": {},
   "source": [
    "# Задание-1\n",
    "\n",
    "В ноутбуке про многоруких бандитов мы разбирали классы для реализации отдельных стратегий решения задачки. Реализуйте в той же парадигме стратегии [exp3](https://jamesrledoux.com/algorithms/bandit-algorithms-epsilon-ucb-exp-python/) и [softmax](https://gibberblot.github.io/rl-notes/single-agent/multi-armed-bandits.html) стратегии. Да, вы не ошиблись, они уже сделаны, надо понять, как оно работает и сделать так, чтобы оно работало в использованной нами конфигурации)"
   ]
  },
  {
   "cell_type": "code",
   "execution_count": null,
   "metadata": {},
   "outputs": [],
   "source": []
  },
  {
   "cell_type": "markdown",
   "metadata": {},
   "source": [
    "# Задание 2\n",
    "\n",
    "В ДЗ по ML вы уже реализовали классы для того, чтобы делать логистические регрессии. Релизуйте класс, который будет из этих регрессий собирать полносвязный перцептрон из 2 слоев с 2 нейронами каждый и третьего выходного слоя. В качестве функции активации используйте сигмоиду, как в логистической регрессии. Если сделаете возможность в качестве активации выбирать ReLu и tanh в дополнение к сигмоиде, будете большими молодцами. Если можно будет задавать количество слоев и количество нейронов в слое, будете вдвойне молодцами) (но базовое требование - два слоя по два нейрона кадлый + 1 выходной слой) \n",
    "\n",
    "[Пример](https://github.com/pileyan/ML-From-Scratch/blob/master/mlfromscratch/supervised_learning/multilayer_perceptron.py)\n",
    "\n",
    "Да, вы снова не ошиблись! реализация уже есть! Но у нас же тут с Вами курс по ПИТОНУ, а не ML :D\n",
    "\n",
    "Про перцептрон [раз](https://www.simplilearn.com/tutorials/deep-learning-tutorial/perceptron), [два](https://mlcourse.at.ispras.ru/wp-content/uploads/2020/09/intro_to_nn_2020.pdf)"
   ]
  },
  {
   "cell_type": "code",
   "execution_count": null,
   "metadata": {},
   "outputs": [],
   "source": []
  }
 ],
 "metadata": {
  "kernelspec": {
   "display_name": "Python 3",
   "language": "python",
   "name": "python3"
  },
  "language_info": {
   "codemirror_mode": {
    "name": "ipython",
    "version": 3
   },
   "file_extension": ".py",
   "mimetype": "text/x-python",
   "name": "python",
   "nbconvert_exporter": "python",
   "pygments_lexer": "ipython3",
   "version": "3.8.3"
  }
 },
 "nbformat": 4,
 "nbformat_minor": 4
}
