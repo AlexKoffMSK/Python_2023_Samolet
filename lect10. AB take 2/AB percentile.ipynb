{
 "cells": [
  {
   "cell_type": "markdown",
   "metadata": {},
   "source": [
    "# Как оценивать квантили в АБ-тестах (метод [Spotify](https://engineering.atspotify.com/2022/03/comparing-quantiles-at-scale-in-online-a-b-testing/))\n",
    "\n",
    "Предполагается, что при стандартном бутстрепе сложность будет вида \"сгенерировать выборку\", \"посчитать квантиль по выборке\". Это как будто бы много. Вместо этого Spotify предлагает отсортировать выборку 1 раз и использовать ее в расчетах. \n",
    "\n",
    "<img src = \"img/Bootstrapped-Distributon-of-Quantile-Indexes-1536x960.png\" width = \"800\">"
   ]
  },
  {
   "cell_type": "code",
   "execution_count": 2,
   "metadata": {},
   "outputs": [
    {
     "data": {
      "text/plain": [
       "'The sample median is 1.00261616216872, the 95.0%confidence interval is given by ([0.97503455 1.02812291]).'"
      ]
     },
     "execution_count": 2,
     "metadata": {},
     "output_type": "execute_result"
    }
   ],
   "source": [
    "import numpy as np\n",
    "from scipy.stats import binom\n",
    "\n",
    "alpha=.05\n",
    "quantile_of_interest=0.5\n",
    "sample_size=10000\n",
    "number_of_bootstrap_samples=1000\n",
    "outcome_sorted = np.sort(np.random.normal(1,1,sample_size))\n",
    "\n",
    "ci_indexes = binom.ppf([alpha/2,1-alpha/2],sample_size+1, quantile_of_interest)\n",
    "bootstrap_confidence_interval = outcome_sorted[[int(np.floor(ci_indexes[0])), int(np.ceil(ci_indexes[1]))]]\n",
    "\n",
    "f\"The sample median is {np.quantile(outcome_sorted, quantile_of_interest)}, the {(1-alpha)*100}%\\\n",
    "confidence interval is given by ({bootstrap_confidence_interval}).\""
   ]
  },
  {
   "cell_type": "code",
   "execution_count": null,
   "metadata": {},
   "outputs": [],
   "source": []
  },
  {
   "cell_type": "code",
   "execution_count": 6,
   "metadata": {},
   "outputs": [
    {
     "data": {
      "text/plain": [
       "'The sample difference-in-medians is 0.21418733857943772,the 95.0% confidence interval for the difference-in-medians is given by ([1.18768264 1.23540676]).'"
      ]
     },
     "execution_count": 6,
     "metadata": {},
     "output_type": "execute_result"
    }
   ],
   "source": [
    "import numpy as np\n",
    "from numpy.random import normal, binomial\n",
    "\n",
    "alpha=.05\n",
    "quantile_of_interest=0.5\n",
    "sample_size=10000\n",
    "number_of_bootstrap_samples=10000\n",
    "outcome_control_sorted = np.sort(normal(1,1,sample_size))\n",
    "outcome_treatment_sorted = np.sort(normal(1.2,1,sample_size))\n",
    "\n",
    "bootstrap_difference_distribution = outcome_treatment_sorted[binomial(sample_size+1, \n",
    "                                                                      quantile_of_interest, \n",
    "                                                                      number_of_bootstrap_samples)] \n",
    "- outcome_control_sorted[binomial(sample_size+1,\n",
    "                                  quantile_of_interest, \n",
    "                                  number_of_bootstrap_samples)]\n",
    "\n",
    "bootstrap_confidence_interval = np.quantile(bootstrap_difference_distribution,\n",
    "[alpha/2 , 1-alpha/2])\n",
    "\n",
    "f\"The sample difference-in-medians is \\\n",
    "{np.quantile(outcome_treatment_sorted, quantile_of_interest)-np.quantile(outcome_control_sorted, quantile_of_interest)},\\\n",
    "the {(1-alpha)*100}% confidence interval for the difference-in-medians is given by ({bootstrap_confidence_interval}).\""
   ]
  },
  {
   "cell_type": "code",
   "execution_count": null,
   "metadata": {},
   "outputs": [],
   "source": []
  },
  {
   "cell_type": "code",
   "execution_count": 5,
   "metadata": {},
   "outputs": [
    {
     "data": {
      "text/plain": [
       "'The empirical false positive rate of the test using the bootstrap confidence interval is 5.16%, the intended false positive rate is 5.0%'"
      ]
     },
     "execution_count": 5,
     "metadata": {},
     "output_type": "execute_result"
    }
   ],
   "source": [
    "alpha=.05\n",
    "quantile_of_interest=0.5\n",
    "sample_size=10000\n",
    "number_of_bootstrap_samples=1000000\n",
    "replications = 1000\n",
    "\n",
    "bootstrap_confidence_intervals = []\n",
    "ci_index = int(np.floor(binom.ppf(alpha,sample_size+1, quantile_of_interest)))\n",
    "for i in range(replications):\n",
    "    outcome_sorted = np.sort(np.random.normal(0,1,sample_size))\n",
    "    bootstrap_confidence_intervals.append(outcome_sorted[ci_index])\n",
    "\n",
    "f\"The empirical false positive rate of the test using the bootstrap confidence interval is {np.mean([1 if i>0  else 0 for i in bootstrap_confidence_intervals])*100}%, the intended false positive rate is {alpha*100}%\""
   ]
  },
  {
   "cell_type": "code",
   "execution_count": null,
   "metadata": {},
   "outputs": [],
   "source": []
  },
  {
   "cell_type": "code",
   "execution_count": null,
   "metadata": {},
   "outputs": [],
   "source": []
  },
  {
   "cell_type": "code",
   "execution_count": 51,
   "metadata": {},
   "outputs": [
    {
     "ename": "ImportError",
     "evalue": "IProgress not found. Please update jupyter and ipywidgets. See https://ipywidgets.readthedocs.io/en/stable/user_install.html",
     "output_type": "error",
     "traceback": [
      "\u001b[0;31m---------------------------------------------------------------------------\u001b[0m",
      "\u001b[0;31mImportError\u001b[0m                               Traceback (most recent call last)",
      "Cell \u001b[0;32mIn[51], line 11\u001b[0m\n\u001b[1;32m      8\u001b[0m ttest_bad_cnt \u001b[38;5;241m=\u001b[39m \u001b[38;5;241m0\u001b[39m\n\u001b[1;32m      9\u001b[0m sz \u001b[38;5;241m=\u001b[39m \u001b[38;5;241m10000\u001b[39m\n\u001b[0;32m---> 11\u001b[0m \u001b[38;5;28;01mfor\u001b[39;00m i \u001b[38;5;129;01min\u001b[39;00m \u001b[43mtqdm\u001b[49m\u001b[43m(\u001b[49m\u001b[38;5;28;43mrange\u001b[39;49m\u001b[43m(\u001b[49m\u001b[43msz\u001b[49m\u001b[43m)\u001b[49m\u001b[43m)\u001b[49m:\n\u001b[1;32m     12\u001b[0m     test_zero_array \u001b[38;5;241m=\u001b[39m sps\u001b[38;5;241m.\u001b[39mbernoulli(p\u001b[38;5;241m=\u001b[39m\u001b[38;5;241m0.55\u001b[39m)\u001b[38;5;241m.\u001b[39mrvs(\u001b[38;5;241m1000\u001b[39m)\n\u001b[1;32m     13\u001b[0m     control_zero_array \u001b[38;5;241m=\u001b[39m sps\u001b[38;5;241m.\u001b[39mbernoulli(p\u001b[38;5;241m=\u001b[39m\u001b[38;5;241m0.5\u001b[39m)\u001b[38;5;241m.\u001b[39mrvs(\u001b[38;5;241m1000\u001b[39m)\n",
      "File \u001b[0;32m~/anaconda3/envs/py38/lib/python3.8/site-packages/tqdm/notebook.py:233\u001b[0m, in \u001b[0;36mtqdm_notebook.__init__\u001b[0;34m(self, *args, **kwargs)\u001b[0m\n\u001b[1;32m    231\u001b[0m unit_scale \u001b[38;5;241m=\u001b[39m \u001b[38;5;241m1\u001b[39m \u001b[38;5;28;01mif\u001b[39;00m \u001b[38;5;28mself\u001b[39m\u001b[38;5;241m.\u001b[39munit_scale \u001b[38;5;129;01mis\u001b[39;00m \u001b[38;5;28;01mTrue\u001b[39;00m \u001b[38;5;28;01melse\u001b[39;00m \u001b[38;5;28mself\u001b[39m\u001b[38;5;241m.\u001b[39munit_scale \u001b[38;5;129;01mor\u001b[39;00m \u001b[38;5;241m1\u001b[39m\n\u001b[1;32m    232\u001b[0m total \u001b[38;5;241m=\u001b[39m \u001b[38;5;28mself\u001b[39m\u001b[38;5;241m.\u001b[39mtotal \u001b[38;5;241m*\u001b[39m unit_scale \u001b[38;5;28;01mif\u001b[39;00m \u001b[38;5;28mself\u001b[39m\u001b[38;5;241m.\u001b[39mtotal \u001b[38;5;28;01melse\u001b[39;00m \u001b[38;5;28mself\u001b[39m\u001b[38;5;241m.\u001b[39mtotal\n\u001b[0;32m--> 233\u001b[0m \u001b[38;5;28mself\u001b[39m\u001b[38;5;241m.\u001b[39mcontainer \u001b[38;5;241m=\u001b[39m \u001b[38;5;28;43mself\u001b[39;49m\u001b[38;5;241;43m.\u001b[39;49m\u001b[43mstatus_printer\u001b[49m\u001b[43m(\u001b[49m\u001b[38;5;28;43mself\u001b[39;49m\u001b[38;5;241;43m.\u001b[39;49m\u001b[43mfp\u001b[49m\u001b[43m,\u001b[49m\u001b[43m \u001b[49m\u001b[43mtotal\u001b[49m\u001b[43m,\u001b[49m\u001b[43m \u001b[49m\u001b[38;5;28;43mself\u001b[39;49m\u001b[38;5;241;43m.\u001b[39;49m\u001b[43mdesc\u001b[49m\u001b[43m,\u001b[49m\u001b[43m \u001b[49m\u001b[38;5;28;43mself\u001b[39;49m\u001b[38;5;241;43m.\u001b[39;49m\u001b[43mncols\u001b[49m\u001b[43m)\u001b[49m\n\u001b[1;32m    234\u001b[0m \u001b[38;5;28mself\u001b[39m\u001b[38;5;241m.\u001b[39mcontainer\u001b[38;5;241m.\u001b[39mpbar \u001b[38;5;241m=\u001b[39m proxy(\u001b[38;5;28mself\u001b[39m)\n\u001b[1;32m    235\u001b[0m \u001b[38;5;28mself\u001b[39m\u001b[38;5;241m.\u001b[39mdisplayed \u001b[38;5;241m=\u001b[39m \u001b[38;5;28;01mFalse\u001b[39;00m\n",
      "File \u001b[0;32m~/anaconda3/envs/py38/lib/python3.8/site-packages/tqdm/notebook.py:108\u001b[0m, in \u001b[0;36mtqdm_notebook.status_printer\u001b[0;34m(_, total, desc, ncols)\u001b[0m\n\u001b[1;32m     99\u001b[0m \u001b[38;5;66;03m# Fallback to text bar if there's no total\u001b[39;00m\n\u001b[1;32m    100\u001b[0m \u001b[38;5;66;03m# DEPRECATED: replaced with an 'info' style bar\u001b[39;00m\n\u001b[1;32m    101\u001b[0m \u001b[38;5;66;03m# if not total:\u001b[39;00m\n\u001b[0;32m   (...)\u001b[0m\n\u001b[1;32m    105\u001b[0m \n\u001b[1;32m    106\u001b[0m \u001b[38;5;66;03m# Prepare IPython progress bar\u001b[39;00m\n\u001b[1;32m    107\u001b[0m \u001b[38;5;28;01mif\u001b[39;00m IProgress \u001b[38;5;129;01mis\u001b[39;00m \u001b[38;5;28;01mNone\u001b[39;00m:  \u001b[38;5;66;03m# #187 #451 #558 #872\u001b[39;00m\n\u001b[0;32m--> 108\u001b[0m     \u001b[38;5;28;01mraise\u001b[39;00m \u001b[38;5;167;01mImportError\u001b[39;00m(WARN_NOIPYW)\n\u001b[1;32m    109\u001b[0m \u001b[38;5;28;01mif\u001b[39;00m total:\n\u001b[1;32m    110\u001b[0m     pbar \u001b[38;5;241m=\u001b[39m IProgress(\u001b[38;5;28mmin\u001b[39m\u001b[38;5;241m=\u001b[39m\u001b[38;5;241m0\u001b[39m, \u001b[38;5;28mmax\u001b[39m\u001b[38;5;241m=\u001b[39mtotal)\n",
      "\u001b[0;31mImportError\u001b[0m: IProgress not found. Please update jupyter and ipywidgets. See https://ipywidgets.readthedocs.io/en/stable/user_install.html"
     ]
    }
   ],
   "source": [
    "import scipy.stats as sps\n",
    "from tqdm.notebook import tqdm # tqdm – библиотека для визуализации прогресса в цикле\n",
    "from statsmodels.stats.proportion import proportion_confint\n",
    "import numpy as np\n",
    "\n",
    " \n",
    "mann_bad_cnt = 0\n",
    "ttest_bad_cnt = 0\n",
    "sz = 10000\n",
    " \n",
    "for i in tqdm(range(sz)):\n",
    "    test_zero_array = sps.bernoulli(p=0.55).rvs(1000)\n",
    "    control_zero_array = sps.bernoulli(p=0.5).rvs(1000)\n",
    "    test = sps.expon(loc=0, scale=6).rvs(1000) * test_zero_array # ET = 3.3\n",
    "    control = sps.expon(loc=0, scale=7).rvs(1000) * control_zero_array # EC = 3.5\n",
    "     \n",
    "    # Проверяем гипотезу\n",
    "    mann_pvalue = sps.mannwhitneyu(control, test, alternative='less').pvalue\n",
    "    ttest_pvalue = sps.ttest_ind(control, test, alternative='less').pvalue\n",
    "    if mann_pvalue < 0.05:\n",
    "        mann_bad_cnt += 1\n",
    " \n",
    "    if ttest_pvalue < 0.05:\n",
    "        ttest_bad_cnt += 1\n",
    "\n",
    "\n",
    "left_mann_power, right_mann_power = proportion_confint(count = mann_bad_cnt, nobs = sz, alpha=0.05, method='wilson')\n",
    "left_ttest_power, right_ttest_power = proportion_confint(count = ttest_bad_cnt, nobs = sz, alpha=0.05, method='wilson')\n",
    "# Выводим результаты\n",
    "print(f\"Mann-whitneyu LESS power: {round(mann_bad_cnt / sz, 4)}, [{round(left_mann_power, 4)}, {round(right_mann_power, 4)}]\")\n",
    "print(f\"T-test LESS power: {round(ttest_bad_cnt / sz, 4)}, [{round(left_ttest_power, 4)}, {round(right_ttest_power, 4)}]\")"
   ]
  },
  {
   "cell_type": "code",
   "execution_count": null,
   "metadata": {},
   "outputs": [],
   "source": [
    "def mannwhitney(a, b):\n",
    "    \"\"\"\n",
    "    Двусторонний тест Манна-Уитни\n",
    "    :param a: np.array вида (n_experiments, n_users), значения метрики в контроле\n",
    "    :param b: np.array вида (n_experiments, n_users), значен я метрики в тесте\n",
    "    :return: np.array вида (n_experiments), двусторонние p-value методом Манна-Уитни для всех экспериментов\n",
    "    \"\"\"\n",
    "    result = list(map(lambda x: scipy.stats.mannwhitneyu(\n",
    "        x[0], x[1], alternative='two-sided').pvalue, zip(a, b)))\n",
    "    return np.array(result)\n",
    "\n"
   ]
  }
 ],
 "metadata": {
  "kernelspec": {
   "display_name": "py38",
   "language": "python",
   "name": "py38"
  },
  "language_info": {
   "codemirror_mode": {
    "name": "ipython",
    "version": 3
   },
   "file_extension": ".py",
   "mimetype": "text/x-python",
   "name": "python",
   "nbconvert_exporter": "python",
   "pygments_lexer": "ipython3",
   "version": "3.8.18"
  }
 },
 "nbformat": 4,
 "nbformat_minor": 4
}
